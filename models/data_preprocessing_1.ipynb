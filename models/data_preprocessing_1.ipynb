{
 "cells": [
  {
   "cell_type": "code",
   "execution_count": 1,
   "id": "6fc81351",
   "metadata": {},
   "outputs": [],
   "source": [
    "import pandas as pd\n",
    "import numpy as np\n",
    "import matplotlib as plt\n",
    "import seaborn as sns\n",
    "\n",
    "from sklearn.metrics.pairwise import cosine_similarity\n",
    "from sklearn.feature_extraction.text import TfidfVectorizer\n"
   ]
  },
  {
   "cell_type": "code",
   "execution_count": 3,
   "id": "4cf8bd90",
   "metadata": {},
   "outputs": [
    {
     "data": {
      "text/plain": [
       "Index(['Uniq Id', 'Crawl Timestamp', 'Dataset Origin', 'Product Id',\n",
       "       'Product Barcode', 'Product Company Type Source',\n",
       "       'Product Brand Source', 'Product Brand Normalised Source',\n",
       "       'Product Name Source', 'Match Rank', 'Match Score', 'Match Type',\n",
       "       'Retailer', 'Product Category', 'Product Brand', 'Product Name',\n",
       "       'Product Price', 'Sku', 'Upc', 'Product Url', 'Market',\n",
       "       'Product Description', 'Product Currency',\n",
       "       'Product Available Inventory', 'Product Image Url',\n",
       "       'Product Model Number', 'Product Tags', 'Product Contents',\n",
       "       'Product Rating', 'Product Reviews Count', 'Bsr', 'Joining Key'],\n",
       "      dtype='object')"
      ]
     },
     "execution_count": 3,
     "metadata": {},
     "output_type": "execute_result"
    }
   ],
   "source": [
    "train_data = pd.read_csv('product_dataset.tsv',sep='\\t')\n",
    "train_data.columns"
   ]
  },
  {
   "cell_type": "code",
   "execution_count": 4,
   "id": "9baa34a8",
   "metadata": {},
   "outputs": [
    {
     "data": {
      "text/html": [
       "<div>\n",
       "<style scoped>\n",
       "    .dataframe tbody tr th:only-of-type {\n",
       "        vertical-align: middle;\n",
       "    }\n",
       "\n",
       "    .dataframe tbody tr th {\n",
       "        vertical-align: top;\n",
       "    }\n",
       "\n",
       "    .dataframe thead th {\n",
       "        text-align: right;\n",
       "    }\n",
       "</style>\n",
       "<table border=\"1\" class=\"dataframe\">\n",
       "  <thead>\n",
       "    <tr style=\"text-align: right;\">\n",
       "      <th></th>\n",
       "      <th>Uniq Id</th>\n",
       "      <th>Product Id</th>\n",
       "      <th>Product Rating</th>\n",
       "      <th>Product Reviews Count</th>\n",
       "      <th>Product Category</th>\n",
       "      <th>Product Brand</th>\n",
       "      <th>Product Name</th>\n",
       "      <th>Product Image Url</th>\n",
       "      <th>Product Description</th>\n",
       "      <th>Product Tags</th>\n",
       "      <th>Product Price</th>\n",
       "    </tr>\n",
       "  </thead>\n",
       "  <tbody>\n",
       "    <tr>\n",
       "      <th>0</th>\n",
       "      <td>1705736792d82aa2f2d3caf1c07c53f4</td>\n",
       "      <td>2e17bf4acecdece67fc00f07ad62c910</td>\n",
       "      <td>NaN</td>\n",
       "      <td>NaN</td>\n",
       "      <td>Premium Beauty &gt; Premium Makeup &gt; Premium Nail...</td>\n",
       "      <td>OPI</td>\n",
       "      <td>OPI Infinite Shine, Nail Lacquer Nail Polish, ...</td>\n",
       "      <td>https://i5.walmartimages.com/asr/0e1f4c51-c1a4...</td>\n",
       "      <td>NaN</td>\n",
       "      <td>OPI Infinite Shine, Nail Lacquer Nail Polish, ...</td>\n",
       "      <td>8.95</td>\n",
       "    </tr>\n",
       "    <tr>\n",
       "      <th>1</th>\n",
       "      <td>95a9fe6f4810fcfc7ff244fd06784f11</td>\n",
       "      <td>076e5854a62dd283c253d6bae415af1f</td>\n",
       "      <td>NaN</td>\n",
       "      <td>NaN</td>\n",
       "      <td>Beauty &gt; Hair Care &gt; Hair Color &gt; Auburn Hair ...</td>\n",
       "      <td>Nice'n Easy</td>\n",
       "      <td>Nice n Easy Permanent Color, 111 Natural Mediu...</td>\n",
       "      <td>https://i5.walmartimages.com/asr/9c8e42e4-13a5...</td>\n",
       "      <td>Pack of 3 Pack of 3 for the UPC: 381519000201 ...</td>\n",
       "      <td>Nice 'n Easy Permanent Color, 111 Natural Medi...</td>\n",
       "      <td>29.86</td>\n",
       "    </tr>\n",
       "  </tbody>\n",
       "</table>\n",
       "</div>"
      ],
      "text/plain": [
       "                            Uniq Id                        Product Id  \\\n",
       "0  1705736792d82aa2f2d3caf1c07c53f4  2e17bf4acecdece67fc00f07ad62c910   \n",
       "1  95a9fe6f4810fcfc7ff244fd06784f11  076e5854a62dd283c253d6bae415af1f   \n",
       "\n",
       "   Product Rating  Product Reviews Count  \\\n",
       "0             NaN                    NaN   \n",
       "1             NaN                    NaN   \n",
       "\n",
       "                                    Product Category Product Brand  \\\n",
       "0  Premium Beauty > Premium Makeup > Premium Nail...           OPI   \n",
       "1  Beauty > Hair Care > Hair Color > Auburn Hair ...   Nice'n Easy   \n",
       "\n",
       "                                        Product Name  \\\n",
       "0  OPI Infinite Shine, Nail Lacquer Nail Polish, ...   \n",
       "1  Nice n Easy Permanent Color, 111 Natural Mediu...   \n",
       "\n",
       "                                   Product Image Url  \\\n",
       "0  https://i5.walmartimages.com/asr/0e1f4c51-c1a4...   \n",
       "1  https://i5.walmartimages.com/asr/9c8e42e4-13a5...   \n",
       "\n",
       "                                 Product Description  \\\n",
       "0                                                NaN   \n",
       "1  Pack of 3 Pack of 3 for the UPC: 381519000201 ...   \n",
       "\n",
       "                                        Product Tags  Product Price  \n",
       "0  OPI Infinite Shine, Nail Lacquer Nail Polish, ...           8.95  \n",
       "1  Nice 'n Easy Permanent Color, 111 Natural Medi...          29.86  "
      ]
     },
     "execution_count": 4,
     "metadata": {},
     "output_type": "execute_result"
    }
   ],
   "source": [
    "train_data = train_data[['Uniq Id','Product Id', 'Product Rating', 'Product Reviews Count', 'Product Category', 'Product Brand', 'Product Name', 'Product Image Url', 'Product Description','Product Tags','Product Price']]\n",
    "train_data.head(2)"
   ]
  },
  {
   "cell_type": "code",
   "execution_count": 5,
   "id": "df02df59",
   "metadata": {},
   "outputs": [
    {
     "name": "stdout",
     "output_type": "stream",
     "text": [
      "Personal Care > Bath & Body > Hand Soaps                                                            138\n",
      "Premium Beauty > Premium Makeup > Premium Nail Polish & Care > Premium Nail Polish                  136\n",
      "Personal Care > Bath & Body > Body Lotions & Creams                                                 130\n",
      "Beauty > Makeup > Nails                                                                             105\n",
      "Personal Care > Incontinence > All Incontinence                                                     105\n",
      "Personal Care > Bath & Body > Body Wash & Shower Gel                                                 91\n",
      "Personal Care > Feminine Care > All Feminine Care                                                    79\n",
      "Health > Aromatherapy > Aromatherapy                                                                 74\n",
      "Personal Care > Sun Care > Sunscreen                                                                 72\n",
      "Premium Beauty > Premium Men's Grooming > Premium Colognes                                           62\n",
      "Personal Care > Deodorants & Antiperspirants                                                         59\n",
      "Health > Aromatherapy > Essential Oils > Essential Oils                                              57\n",
      "Beauty > Makeup > Lip                                                                                52\n",
      "Beauty > Hair Care > Hair Color > Permanent Hair Color                                               51\n",
      "Premium Beauty > Premium Bath & Body > Premium Body Washes & Shower Gels                             50\n",
      "Premium Beauty > Premium Bath & Body > Premium Body Lotions                                          48\n",
      "Household Essentials > Air Fresheners > Spray Air Fresheners > Trigger Spray > All Trigger Spray     40\n",
      "Premium Beauty > Premium Hair Care > Premium Hair Color                                              39\n",
      "Premium Beauty > Premium Hair Care & Hair Tools > Premium Shampoos                                   39\n",
      "Personal Care > Incontinence > Incontinence Underwear                                                39\n",
      "Health > Sleep Better > Calm Your Mind                                                               36\n",
      "Personal Care > Personal Care by Brand > Crest                                                       36\n",
      "Premium Beauty > Premium Makeup > Premium Face > Premium Foundation                                  35\n",
      "Beauty > Beauty by Top Brands > L'Oreal > L'Oreal Makeup                                             33\n",
      "Premium Beauty > Premium Facial Skincare > Premium Face Moisturizers                                 32\n",
      "Personal Care > Bath & Body > Bar Soap                                                               32\n",
      "Beauty > Beauty by Topic > Mindful Beauty > Mindful Beauty Cosmetics                                 30\n",
      "Beauty > Hair Care > Shampoo > All Shampoo                                                           28\n",
      "Beauty > Nail Care > Nail Polish > Nail Polish                                                       28\n",
      "Premium Beauty > Premium Facial Skincare > Premium Face Cleansers                                    28\n",
      "Beauty > Makeup > Eye Makeup > Eye Makeup Brands > Maybelline Eye Makeup                             27\n",
      "Household Essentials > Cleaning Supplies > All-Purpose Cleaners                                      27\n",
      "Household Essentials > Air Fresheners > Air Freshener Refills > All Air Freshener Refills            26\n",
      "Personal Care > Oral Care > Kids Oral Care                                                           26\n",
      "Personal Care > Bath & Body > Loofahs, Bath Sponges & Accessories                                    24\n",
      "Beauty > Makeup > Face Makeup > Foundation > Liquid Foundation                                       24\n",
      "Premium Beauty > Premium Facial Skincare > Premium Facial Treatments & Serums                        24\n",
      "Beauty > Hair Care > Conditioner > All Conditioner                                                   23\n",
      "Health > Vitamins & Supplements > Supplements                                                        23\n",
      "Premium Beauty > Premium Makeup > Premium Lips > Premium Lipstick                                    23\n",
      "Beauty > Beauty by Top Brands > Rimmel > Rimmel Lip Makeup                                           23\n",
      "Beauty > Bath & Body > Hand Soaps & Sanitizers                                                       22\n",
      "Household Essentials > Cleaning Supplies > Surface Care & Protection                                 22\n",
      "Beauty > Nail Care > Nail Polish > Sally Hansen Nail Polish                                          22\n",
      "Premium Beauty > Premium Fragrance > Premium Cologne                                                 22\n",
      "Health > Superfoods & Cleanses > Superfoods > Natural Alternatives                                   22\n",
      "Premium Beauty > Premium Hair Care & Hair Tools > Premium Conditioners                               21\n",
      "Sports & Outdoors > Exercise & Fitness > Yoga > Yoga Mats                                            21\n",
      "Personal Care > Oral Care > Toothbrushes > Electric Toothbrushes > Oral-B Electric Toothbrushes      21\n",
      "Premium Beauty > Premium Hair Care > Premium Styling Products > Hair Styling Products                21\n",
      "Name: Product Category, dtype: int64\n"
     ]
    }
   ],
   "source": [
    "categoryvalue =train_data['Product Category'].value_counts()\n",
    "print(categoryvalue.head(50))\n"
   ]
  },
  {
   "cell_type": "code",
   "execution_count": 6,
   "id": "cf33b041",
   "metadata": {},
   "outputs": [
    {
     "name": "stdout",
     "output_type": "stream",
     "text": [
      "float64\n",
      "float64\n",
      "object\n"
     ]
    }
   ],
   "source": [
    "print(train_data['Product Reviews Count'].dtype)\n",
    "print(train_data['Product Rating'].dtype)\n",
    "print(train_data['Uniq Id'].dtype)"
   ]
  },
  {
   "cell_type": "code",
   "execution_count": 7,
   "id": "afb2ea49",
   "metadata": {},
   "outputs": [
    {
     "data": {
      "text/plain": [
       "0       OPI Infinite Shine, Nail Lacquer Nail Polish, ...\n",
       "1       Nice 'n Easy Permanent Color, 111 Natural Medi...\n",
       "2       Clairol Nice 'N Easy Permanent Color 7/106A Na...\n",
       "3       Kokie Professional Matte Lipstick, Hot Berry, ...\n",
       "4       Gillette TRAC II Plus Razor Blade Refills, Fit...\n",
       "                              ...                        \n",
       "4995    Garden Mint Room Spray (Double Strength), 4 ou...\n",
       "4996    Garnier Nutrisse Nourishing Hair Color Creme (...\n",
       "4997    Nail File Electric Drill, 6 in 1 Professional ...\n",
       "4998    Creed Love In Black Hair And Body Wash 6.8oz/2...\n",
       "4999                    Foundation, Wal-mart, Walmart.com\n",
       "Name: Product Tags, Length: 5000, dtype: object"
      ]
     },
     "execution_count": 7,
     "metadata": {},
     "output_type": "execute_result"
    }
   ],
   "source": [
    "\n",
    "train_data['Product Tags']"
   ]
  },
  {
   "cell_type": "code",
   "execution_count": 8,
   "id": "1f93eb03",
   "metadata": {},
   "outputs": [
    {
     "data": {
      "text/plain": [
       "(5000, 11)"
      ]
     },
     "execution_count": 8,
     "metadata": {},
     "output_type": "execute_result"
    }
   ],
   "source": [
    "train_data.shape"
   ]
  },
  {
   "cell_type": "code",
   "execution_count": 9,
   "id": "ab728c90",
   "metadata": {},
   "outputs": [
    {
     "data": {
      "text/plain": [
       "Uniq Id                     0\n",
       "Product Id                  0\n",
       "Product Rating           2806\n",
       "Product Reviews Count    1654\n",
       "Product Category           10\n",
       "Product Brand              13\n",
       "Product Name                0\n",
       "Product Image Url           0\n",
       "Product Description      1127\n",
       "Product Tags                0\n",
       "Product Price              42\n",
       "dtype: int64"
      ]
     },
     "execution_count": 9,
     "metadata": {},
     "output_type": "execute_result"
    }
   ],
   "source": [
    "train_data.isnull().sum()"
   ]
  },
  {
   "cell_type": "code",
   "execution_count": 10,
   "id": "1819b4f4",
   "metadata": {},
   "outputs": [],
   "source": [
    "\n",
    "train_data['Product Rating'].fillna('No Ratings Available', inplace=True)\n",
    "train_data['Product Reviews Count'].fillna('No Reviews Yet', inplace=True)\n",
    "train_data['Product Category'].fillna('General Merchandise', inplace=True)\n",
    "train_data['Product Brand'].fillna('Generic Brand', inplace=True)\n",
    "train_data['Product Description'].fillna('This high-quality product from a trusted brand offers exceptional value and reliability. Carefully curated to meet your daily needs, it is designed for your convenience and satisfaction. ', inplace=True)\n",
    "train_data['Product Price'].fillna(100, inplace=True)"
   ]
  },
  {
   "cell_type": "code",
   "execution_count": 11,
   "id": "3e285615",
   "metadata": {},
   "outputs": [
    {
     "data": {
      "text/plain": [
       "Uniq Id                  0\n",
       "Product Id               0\n",
       "Product Rating           0\n",
       "Product Reviews Count    0\n",
       "Product Category         0\n",
       "Product Brand            0\n",
       "Product Name             0\n",
       "Product Image Url        0\n",
       "Product Description      0\n",
       "Product Tags             0\n",
       "Product Price            0\n",
       "dtype: int64"
      ]
     },
     "execution_count": 11,
     "metadata": {},
     "output_type": "execute_result"
    }
   ],
   "source": [
    "train_data.isnull().sum()"
   ]
  },
  {
   "cell_type": "code",
   "execution_count": 12,
   "id": "94d9751a",
   "metadata": {},
   "outputs": [
    {
     "data": {
      "text/plain": [
       "0"
      ]
     },
     "execution_count": 12,
     "metadata": {},
     "output_type": "execute_result"
    }
   ],
   "source": [
    "train_data.duplicated().sum()\n"
   ]
  },
  {
   "cell_type": "code",
   "execution_count": 13,
   "id": "9685016d",
   "metadata": {},
   "outputs": [
    {
     "data": {
      "text/plain": [
       "0       This high-quality product from a trusted brand...\n",
       "1       Pack of 3 Pack of 3 for the UPC: 381519000201 ...\n",
       "2       This Clairol Nice N Easy Permanent Color gives...\n",
       "3       Calling all matte lip lovers! Indulge in our r...\n",
       "4       In 1971, Gillette introduced the Trac II razor...\n",
       "                              ...                        \n",
       "4995    Garden Mint is a lovely blend of spearmint, le...\n",
       "4996    Garnier Nutrisse Nourishing Hair Color Creme B...\n",
       "4997    Multifunctional : Our nail drill kit come with...\n",
       "4998    This high-quality product from a trusted brand...\n",
       "4999    Mousse foundation that gives you a smooth clea...\n",
       "Name: Product Description, Length: 5000, dtype: object"
      ]
     },
     "execution_count": 13,
     "metadata": {},
     "output_type": "execute_result"
    }
   ],
   "source": [
    "train_data['Product Description']"
   ]
  },
  {
   "cell_type": "code",
   "execution_count": 14,
   "id": "0c4ee0e7",
   "metadata": {},
   "outputs": [
    {
     "data": {
      "text/plain": [
       "Index(['Uniq Id', 'Product Id', 'Product Rating', 'Product Reviews Count',\n",
       "       'Product Category', 'Product Brand', 'Product Name',\n",
       "       'Product Image Url', 'Product Description', 'Product Tags',\n",
       "       'Product Price'],\n",
       "      dtype='object')"
      ]
     },
     "execution_count": 14,
     "metadata": {},
     "output_type": "execute_result"
    }
   ],
   "source": [
    "train_data.columns"
   ]
  },
  {
   "cell_type": "code",
   "execution_count": 15,
   "id": "7e19a39c",
   "metadata": {},
   "outputs": [],
   "source": [
    "column_name_mapping = {\n",
    "    'Uniq Id':'ID',\n",
    "    'Product Id':'ProdID',\n",
    "    'Product Rating':'Rating',\n",
    "    'Product Reviews Count':'ReviewCount',\n",
    "    'Product Category':'Category',\n",
    "    'Product Brand':'Brand',\n",
    "    'Product Name':'Name',\n",
    "    'Product Image Url':'ImageURL',\n",
    "    'Product Description':'Description',\n",
    "    'Product Tags':'Tags',\n",
    "    'Product Price':'Price'\n",
    "}\n",
    "\n",
    "train_data.rename(columns=column_name_mapping, inplace=True)\n"
   ]
  },
  {
   "cell_type": "code",
   "execution_count": 16,
   "id": "3bb3af90",
   "metadata": {},
   "outputs": [],
   "source": [
    "# train_data['ID'] = train_data['ID'].str.extract(r'(\\d+)').astype(float)"
   ]
  },
  {
   "cell_type": "code",
   "execution_count": 17,
   "id": "9272b06c",
   "metadata": {},
   "outputs": [],
   "source": [
    "# train_data['ProdID'] = train_data['ProdID'].str.extract(r'(\\d+)').astype(float)"
   ]
  },
  {
   "cell_type": "code",
   "execution_count": 18,
   "id": "e4b92973",
   "metadata": {},
   "outputs": [
    {
     "data": {
      "text/plain": [
       "0       1705736792d82aa2f2d3caf1c07c53f4\n",
       "1       95a9fe6f4810fcfc7ff244fd06784f11\n",
       "2       8d4d0330178d3ed181b15a4102b287f2\n",
       "3       fddc4df45b35efd886794b261f730c51\n",
       "4       0990cf89a59ca6a0460349a3e4f51d42\n",
       "                      ...               \n",
       "4995    2771f0606e9638de508741f52029d51c\n",
       "4996    0f218eb3ac736975ccfdde987baa4b83\n",
       "4997    34d1aa70845416c3df059a088aaf18dc\n",
       "4998    ff9cfa22550bf036e2487a9100d927f1\n",
       "4999    0de862f8c1c4f23b6c4cfe59fd574b59\n",
       "Name: ID, Length: 5000, dtype: object"
      ]
     },
     "execution_count": 18,
     "metadata": {},
     "output_type": "execute_result"
    }
   ],
   "source": [
    "train_data['ID']"
   ]
  },
  {
   "cell_type": "code",
   "execution_count": 19,
   "id": "0ec32f37",
   "metadata": {},
   "outputs": [
    {
     "data": {
      "text/html": [
       "<div>\n",
       "<style scoped>\n",
       "    .dataframe tbody tr th:only-of-type {\n",
       "        vertical-align: middle;\n",
       "    }\n",
       "\n",
       "    .dataframe tbody tr th {\n",
       "        vertical-align: top;\n",
       "    }\n",
       "\n",
       "    .dataframe thead th {\n",
       "        text-align: right;\n",
       "    }\n",
       "</style>\n",
       "<table border=\"1\" class=\"dataframe\">\n",
       "  <thead>\n",
       "    <tr style=\"text-align: right;\">\n",
       "      <th></th>\n",
       "      <th>ID</th>\n",
       "      <th>ProdID</th>\n",
       "      <th>Rating</th>\n",
       "      <th>ReviewCount</th>\n",
       "      <th>Category</th>\n",
       "      <th>Brand</th>\n",
       "      <th>Name</th>\n",
       "      <th>ImageURL</th>\n",
       "      <th>Description</th>\n",
       "      <th>Tags</th>\n",
       "      <th>Price</th>\n",
       "    </tr>\n",
       "  </thead>\n",
       "  <tbody>\n",
       "    <tr>\n",
       "      <th>0</th>\n",
       "      <td>1705736792d82aa2f2d3caf1c07c53f4</td>\n",
       "      <td>2e17bf4acecdece67fc00f07ad62c910</td>\n",
       "      <td>No Ratings Available</td>\n",
       "      <td>No Reviews Yet</td>\n",
       "      <td>Premium Beauty &gt; Premium Makeup &gt; Premium Nail...</td>\n",
       "      <td>OPI</td>\n",
       "      <td>OPI Infinite Shine, Nail Lacquer Nail Polish, ...</td>\n",
       "      <td>https://i5.walmartimages.com/asr/0e1f4c51-c1a4...</td>\n",
       "      <td>This high-quality product from a trusted brand...</td>\n",
       "      <td>OPI Infinite Shine, Nail Lacquer Nail Polish, ...</td>\n",
       "      <td>8.95</td>\n",
       "    </tr>\n",
       "  </tbody>\n",
       "</table>\n",
       "</div>"
      ],
      "text/plain": [
       "                                 ID                            ProdID  \\\n",
       "0  1705736792d82aa2f2d3caf1c07c53f4  2e17bf4acecdece67fc00f07ad62c910   \n",
       "\n",
       "                 Rating     ReviewCount  \\\n",
       "0  No Ratings Available  No Reviews Yet   \n",
       "\n",
       "                                            Category Brand  \\\n",
       "0  Premium Beauty > Premium Makeup > Premium Nail...   OPI   \n",
       "\n",
       "                                                Name  \\\n",
       "0  OPI Infinite Shine, Nail Lacquer Nail Polish, ...   \n",
       "\n",
       "                                            ImageURL  \\\n",
       "0  https://i5.walmartimages.com/asr/0e1f4c51-c1a4...   \n",
       "\n",
       "                                         Description  \\\n",
       "0  This high-quality product from a trusted brand...   \n",
       "\n",
       "                                                Tags  Price  \n",
       "0  OPI Infinite Shine, Nail Lacquer Nail Polish, ...   8.95  "
      ]
     },
     "execution_count": 19,
     "metadata": {},
     "output_type": "execute_result"
    }
   ],
   "source": [
    "train_data.head(1)"
   ]
  },
  {
   "cell_type": "code",
   "execution_count": 20,
   "id": "08308fc0",
   "metadata": {},
   "outputs": [
    {
     "data": {
      "text/plain": [
       "0"
      ]
     },
     "execution_count": 20,
     "metadata": {},
     "output_type": "execute_result"
    }
   ],
   "source": [
    "train_data.duplicated().sum()"
   ]
  },
  {
   "cell_type": "code",
   "execution_count": 21,
   "id": "39fb2e95",
   "metadata": {},
   "outputs": [
    {
     "name": "stdout",
     "output_type": "stream",
     "text": [
      "Users: 5000\n",
      "Items: 4802\n",
      "Ratings: 36\n"
     ]
    }
   ],
   "source": [
    "users = train_data['ID'].nunique()\n",
    "items = train_data['ProdID'].nunique()\n",
    "rating = train_data['Rating'].nunique()\n",
    "print(f\"Users: {users}\")\n",
    "print(f\"Items: {items}\")\n",
    "print(f\"Ratings: {rating}\")"
   ]
  },
  {
   "cell_type": "code",
   "execution_count": 22,
   "id": "0941c651",
   "metadata": {},
   "outputs": [
    {
     "data": {
      "text/plain": [
       "'32f417078c38d85337779bb999c37e8b'"
      ]
     },
     "execution_count": 22,
     "metadata": {},
     "output_type": "execute_result"
    }
   ],
   "source": [
    "train_data['ID'][9]"
   ]
  },
  {
   "cell_type": "code",
   "execution_count": 23,
   "id": "0bb725e0",
   "metadata": {},
   "outputs": [],
   "source": [
    "newValue = train_data['Description']\n",
    "newCategory = train_data['Category']"
   ]
  },
  {
   "cell_type": "code",
   "execution_count": 24,
   "id": "92018bae",
   "metadata": {},
   "outputs": [
    {
     "data": {
      "text/plain": [
       "'Popular Items'"
      ]
     },
     "execution_count": 24,
     "metadata": {},
     "output_type": "execute_result"
    },
    {
     "data": {
      "image/png": "[encoded data removed]",
      "text/plain": [
       "<Figure size 640x480 with 1 Axes>"
      ]
     },
     "metadata": {},
     "output_type": "display_data"
    }
   ],
   "source": [
    "popitems = train_data['ProdID'].value_counts().head(5)\n",
    "popitems.plot(kind='bar',color='red')\n",
    "(\"Popular Items\")"
   ]
  },
  {
   "cell_type": "code",
   "execution_count": 36,
   "id": "a5e8e1c8",
   "metadata": {},
   "outputs": [
    {
     "name": "stdout",
     "output_type": "stream",
     "text": [
      "Collecting spacy\n",
      "  Using cached spacy-3.8.7-cp311-cp311-win_amd64.whl.metadata (28 kB)\n",
      "Requirement already satisfied: spacy-legacy<3.1.0,>=3.0.11 in c:\\users\\user\\appdata\\local\\programs\\python\\python311\\lib\\site-packages (from spacy) (3.0.12)\n",
      "Requirement already satisfied: spacy-loggers<2.0.0,>=1.0.0 in c:\\users\\user\\appdata\\local\\programs\\python\\python311\\lib\\site-packages (from spacy) (1.0.5)\n",
      "Collecting murmurhash<1.1.0,>=0.28.0 (from spacy)\n",
      "  Using cached murmurhash-1.0.13-cp311-cp311-win_amd64.whl.metadata (2.2 kB)\n",
      "Requirement already satisfied: cymem<2.1.0,>=2.0.2 in c:\\users\\user\\appdata\\local\\programs\\python\\python311\\lib\\site-packages (from spacy) (2.0.11)\n",
      "Collecting preshed<3.1.0,>=3.0.2 (from spacy)\n",
      "  Using cached preshed-3.0.10-cp311-cp311-win_amd64.whl.metadata (2.5 kB)\n",
      "Collecting thinc<8.4.0,>=8.3.4 (from spacy)\n",
      "  Using cached thinc-8.3.6-cp311-cp311-win_amd64.whl.metadata (15 kB)\n",
      "Requirement already satisfied: wasabi<1.2.0,>=0.9.1 in c:\\users\\user\\appdata\\local\\programs\\python\\python311\\lib\\site-packages (from spacy) (1.1.3)\n",
      "Collecting srsly<3.0.0,>=2.4.3 (from spacy)\n",
      "  Using cached srsly-2.5.1-cp311-cp311-win_amd64.whl.metadata (20 kB)\n",
      "Collecting catalogue<2.1.0,>=2.0.6 (from spacy)\n",
      "  Using cached catalogue-2.0.10-py3-none-any.whl.metadata (14 kB)\n",
      "Collecting weasel<0.5.0,>=0.1.0 (from spacy)\n",
      "  Using cached weasel-0.4.1-py3-none-any.whl.metadata (4.6 kB)\n",
      "Collecting typer<1.0.0,>=0.3.0 (from spacy)\n",
      "  Using cached typer-0.17.3-py3-none-any.whl.metadata (15 kB)\n",
      "Requirement already satisfied: tqdm<5.0.0,>=4.38.0 in c:\\users\\user\\appdata\\local\\programs\\python\\python311\\lib\\site-packages (from spacy) (4.67.1)\n",
      "Requirement already satisfied: numpy>=1.19.0 in c:\\users\\user\\appdata\\local\\programs\\python\\python311\\lib\\site-packages (from spacy) (1.23.5)\n",
      "Requirement already satisfied: requests<3.0.0,>=2.13.0 in c:\\users\\user\\appdata\\local\\programs\\python\\python311\\lib\\site-packages (from spacy) (2.32.4)\n",
      "Collecting pydantic!=1.8,!=1.8.1,<3.0.0,>=1.7.4 (from spacy)\n",
      "  Using cached pydantic-2.11.7-py3-none-any.whl.metadata (67 kB)\n",
      "Requirement already satisfied: jinja2 in c:\\users\\user\\appdata\\local\\programs\\python\\python311\\lib\\site-packages (from spacy) (3.1.6)\n",
      "Requirement already satisfied: setuptools in c:\\users\\user\\appdata\\local\\programs\\python\\python311\\lib\\site-packages (from spacy) (80.9.0)\n",
      "Requirement already satisfied: packaging>=20.0 in c:\\users\\user\\appdata\\local\\programs\\python\\python311\\lib\\site-packages (from spacy) (25.0)\n",
      "Collecting langcodes<4.0.0,>=3.2.0 (from spacy)\n",
      "  Using cached langcodes-3.5.0-py3-none-any.whl.metadata (29 kB)\n",
      "Collecting language-data>=1.2 (from langcodes<4.0.0,>=3.2.0->spacy)\n",
      "  Using cached language_data-1.3.0-py3-none-any.whl.metadata (4.3 kB)\n",
      "Collecting annotated-types>=0.6.0 (from pydantic!=1.8,!=1.8.1,<3.0.0,>=1.7.4->spacy)\n",
      "  Using cached annotated_types-0.7.0-py3-none-any.whl.metadata (15 kB)\n",
      "Requirement already satisfied: pydantic-core==2.33.2 in c:\\users\\user\\appdata\\local\\programs\\python\\python311\\lib\\site-packages (from pydantic!=1.8,!=1.8.1,<3.0.0,>=1.7.4->spacy) (2.33.2)\n",
      "Requirement already satisfied: typing-extensions>=4.12.2 in c:\\users\\user\\appdata\\local\\programs\\python\\python311\\lib\\site-packages (from pydantic!=1.8,!=1.8.1,<3.0.0,>=1.7.4->spacy) (4.14.0)\n",
      "Requirement already satisfied: typing-inspection>=0.4.0 in c:\\users\\user\\appdata\\local\\programs\\python\\python311\\lib\\site-packages (from pydantic!=1.8,!=1.8.1,<3.0.0,>=1.7.4->spacy) (0.4.1)\n",
      "Requirement already satisfied: charset_normalizer<4,>=2 in c:\\users\\user\\appdata\\local\\programs\\python\\python311\\lib\\site-packages (from requests<3.0.0,>=2.13.0->spacy) (3.4.2)\n",
      "Requirement already satisfied: idna<4,>=2.5 in c:\\users\\user\\appdata\\local\\programs\\python\\python311\\lib\\site-packages (from requests<3.0.0,>=2.13.0->spacy) (3.10)\n",
      "Requirement already satisfied: urllib3<3,>=1.21.1 in c:\\users\\user\\appdata\\local\\programs\\python\\python311\\lib\\site-packages (from requests<3.0.0,>=2.13.0->spacy) (2.4.0)\n",
      "Requirement already satisfied: certifi>=2017.4.17 in c:\\users\\user\\appdata\\local\\programs\\python\\python311\\lib\\site-packages (from requests<3.0.0,>=2.13.0->spacy) (2025.4.26)\n",
      "Collecting blis<1.4.0,>=1.3.0 (from thinc<8.4.0,>=8.3.4->spacy)\n",
      "  Using cached blis-1.3.0-cp311-cp311-win_amd64.whl.metadata (7.6 kB)\n",
      "Collecting confection<1.0.0,>=0.0.1 (from thinc<8.4.0,>=8.3.4->spacy)\n",
      "  Using cached confection-0.1.5-py3-none-any.whl.metadata (19 kB)\n",
      "Collecting numpy>=1.19.0 (from spacy)\n",
      "  Using cached numpy-2.3.2-cp311-cp311-win_amd64.whl.metadata (60 kB)\n",
      "Requirement already satisfied: colorama in c:\\users\\user\\appdata\\local\\programs\\python\\python311\\lib\\site-packages (from tqdm<5.0.0,>=4.38.0->spacy) (0.4.6)\n",
      "Requirement already satisfied: click>=8.0.0 in c:\\users\\user\\appdata\\local\\programs\\python\\python311\\lib\\site-packages (from typer<1.0.0,>=0.3.0->spacy) (8.2.1)\n",
      "Requirement already satisfied: shellingham>=1.3.0 in c:\\users\\user\\appdata\\local\\programs\\python\\python311\\lib\\site-packages (from typer<1.0.0,>=0.3.0->spacy) (1.5.4)\n",
      "Collecting rich>=10.11.0 (from typer<1.0.0,>=0.3.0->spacy)\n",
      "  Using cached rich-14.1.0-py3-none-any.whl.metadata (18 kB)\n",
      "Collecting cloudpathlib<1.0.0,>=0.7.0 (from weasel<0.5.0,>=0.1.0->spacy)\n",
      "  Using cached cloudpathlib-0.22.0-py3-none-any.whl.metadata (16 kB)\n",
      "Collecting smart-open<8.0.0,>=5.2.1 (from weasel<0.5.0,>=0.1.0->spacy)\n",
      "  Using cached smart_open-7.3.0.post1-py3-none-any.whl.metadata (24 kB)\n",
      "Requirement already satisfied: wrapt in c:\\users\\user\\appdata\\local\\programs\\python\\python311\\lib\\site-packages (from smart-open<8.0.0,>=5.2.1->weasel<0.5.0,>=0.1.0->spacy) (1.17.3)\n",
      "Collecting marisa-trie>=1.1.0 (from language-data>=1.2->langcodes<4.0.0,>=3.2.0->spacy)\n",
      "  Using cached marisa_trie-1.3.1-cp311-cp311-win_amd64.whl.metadata (10 kB)\n",
      "Collecting markdown-it-py>=2.2.0 (from rich>=10.11.0->typer<1.0.0,>=0.3.0->spacy)\n",
      "  Using cached markdown_it_py-4.0.0-py3-none-any.whl.metadata (7.3 kB)\n",
      "Requirement already satisfied: pygments<3.0.0,>=2.13.0 in c:\\users\\user\\appdata\\roaming\\python\\python311\\site-packages (from rich>=10.11.0->typer<1.0.0,>=0.3.0->spacy) (2.19.2)\n",
      "Collecting mdurl~=0.1 (from markdown-it-py>=2.2.0->rich>=10.11.0->typer<1.0.0,>=0.3.0->spacy)\n",
      "  Using cached mdurl-0.1.2-py3-none-any.whl.metadata (1.6 kB)\n",
      "Requirement already satisfied: MarkupSafe>=2.0 in c:\\users\\user\\appdata\\local\\programs\\python\\python311\\lib\\site-packages (from jinja2->spacy) (3.0.2)\n",
      "Using cached spacy-3.8.7-cp311-cp311-win_amd64.whl (14.9 MB)\n",
      "Using cached catalogue-2.0.10-py3-none-any.whl (17 kB)\n",
      "Using cached langcodes-3.5.0-py3-none-any.whl (182 kB)\n",
      "Using cached murmurhash-1.0.13-cp311-cp311-win_amd64.whl (24 kB)\n",
      "Using cached preshed-3.0.10-cp311-cp311-win_amd64.whl (117 kB)\n",
      "Using cached pydantic-2.11.7-py3-none-any.whl (444 kB)\n",
      "Using cached srsly-2.5.1-cp311-cp311-win_amd64.whl (632 kB)\n",
      "Using cached thinc-8.3.6-cp311-cp311-win_amd64.whl (1.8 MB)\n",
      "Using cached blis-1.3.0-cp311-cp311-win_amd64.whl (6.2 MB)\n",
      "Using cached confection-0.1.5-py3-none-any.whl (35 kB)\n",
      "Using cached numpy-2.3.2-cp311-cp311-win_amd64.whl (13.1 MB)\n",
      "Using cached typer-0.17.3-py3-none-any.whl (46 kB)\n",
      "Using cached weasel-0.4.1-py3-none-any.whl (50 kB)\n",
      "Using cached cloudpathlib-0.22.0-py3-none-any.whl (61 kB)\n",
      "Using cached smart_open-7.3.0.post1-py3-none-any.whl (61 kB)\n",
      "Using cached annotated_types-0.7.0-py3-none-any.whl (13 kB)\n",
      "Using cached language_data-1.3.0-py3-none-any.whl (5.4 MB)\n",
      "Using cached marisa_trie-1.3.1-cp311-cp311-win_amd64.whl (143 kB)\n",
      "Using cached rich-14.1.0-py3-none-any.whl (243 kB)\n",
      "Using cached markdown_it_py-4.0.0-py3-none-any.whl (87 kB)\n",
      "Using cached mdurl-0.1.2-py3-none-any.whl (10.0 kB)\n",
      "Installing collected packages: smart-open, numpy, murmurhash, mdurl, marisa-trie, cloudpathlib, catalogue, annotated-types, srsly, pydantic, preshed, markdown-it-py, language-data, blis, rich, langcodes, confection, typer, thinc, weasel, spacy\n",
      "\n",
      "   ----------------------------------------  0/21 [smart-open]\n",
      "   ----------------------------------------  0/21 [smart-open]\n",
      "  Attempting uninstall: numpy\n",
      "   ----------------------------------------  0/21 [smart-open]\n",
      "    Found existing installation: numpy 1.23.5\n",
      "   ----------------------------------------  0/21 [smart-open]\n",
      "   - --------------------------------------  1/21 [numpy]\n",
      "    Uninstalling numpy-1.23.5:\n",
      "   - --------------------------------------  1/21 [numpy]\n",
      "      Successfully uninstalled numpy-1.23.5\n",
      "   - --------------------------------------  1/21 [numpy]\n",
      "   - --------------------------------------  1/21 [numpy]\n",
      "   - --------------------------------------  1/21 [numpy]\n",
      "   - --------------------------------------  1/21 [numpy]\n",
      "   - --------------------------------------  1/21 [numpy]\n",
      "   - --------------------------------------  1/21 [numpy]\n",
      "   - --------------------------------------  1/21 [numpy]\n",
      "   - --------------------------------------  1/21 [numpy]\n",
      "   - --------------------------------------  1/21 [numpy]\n",
      "   - --------------------------------------  1/21 [numpy]\n",
      "   - --------------------------------------  1/21 [numpy]\n",
      "   - --------------------------------------  1/21 [numpy]\n",
      "   - --------------------------------------  1/21 [numpy]\n",
      "   - --------------------------------------  1/21 [numpy]\n",
      "   - --------------------------------------  1/21 [numpy]\n",
      "   - --------------------------------------  1/21 [numpy]\n",
      "   - --------------------------------------  1/21 [numpy]\n",
      "   - --------------------------------------  1/21 [numpy]\n",
      "   - --------------------------------------  1/21 [numpy]\n",
      "   - --------------------------------------  1/21 [numpy]\n",
      "   - --------------------------------------  1/21 [numpy]\n",
      "   - --------------------------------------  1/21 [numpy]\n",
      "   - --------------------------------------  1/21 [numpy]\n",
      "   - --------------------------------------  1/21 [numpy]\n",
      "   - --------------------------------------  1/21 [numpy]\n",
      "   - --------------------------------------  1/21 [numpy]\n",
      "   - --------------------------------------  1/21 [numpy]\n",
      "   - --------------------------------------  1/21 [numpy]\n",
      "   - --------------------------------------  1/21 [numpy]\n",
      "   - --------------------------------------  1/21 [numpy]\n",
      "   - --------------------------------------  1/21 [numpy]\n",
      "   - --------------------------------------  1/21 [numpy]\n",
      "   - --------------------------------------  1/21 [numpy]\n",
      "   - --------------------------------------  1/21 [numpy]\n",
      "   - --------------------------------------  1/21 [numpy]\n",
      "   - --------------------------------------  1/21 [numpy]\n",
      "   - --------------------------------------  1/21 [numpy]\n",
      "   - --------------------------------------  1/21 [numpy]\n",
      "   - --------------------------------------  1/21 [numpy]\n",
      "   - --------------------------------------  1/21 [numpy]\n",
      "   - --------------------------------------  1/21 [numpy]\n",
      "   - --------------------------------------  1/21 [numpy]\n",
      "   - --------------------------------------  1/21 [numpy]\n",
      "   - --------------------------------------  1/21 [numpy]\n",
      "   - --------------------------------------  1/21 [numpy]\n",
      "   - --------------------------------------  1/21 [numpy]\n",
      "   - --------------------------------------  1/21 [numpy]\n",
      "   - --------------------------------------  1/21 [numpy]\n",
      "   - --------------------------------------  1/21 [numpy]\n",
      "   - --------------------------------------  1/21 [numpy]\n",
      "   - --------------------------------------  1/21 [numpy]\n",
      "   - --------------------------------------  1/21 [numpy]\n",
      "   - --------------------------------------  1/21 [numpy]\n",
      "   - --------------------------------------  1/21 [numpy]\n",
      "   - --------------------------------------  1/21 [numpy]\n",
      "   - --------------------------------------  1/21 [numpy]\n",
      "   - --------------------------------------  1/21 [numpy]\n",
      "   - --------------------------------------  1/21 [numpy]\n",
      "   - --------------------------------------  1/21 [numpy]\n",
      "   - --------------------------------------  1/21 [numpy]\n",
      "   - --------------------------------------  1/21 [numpy]\n",
      "   - --------------------------------------  1/21 [numpy]\n",
      "   - --------------------------------------  1/21 [numpy]\n",
      "   - --------------------------------------  1/21 [numpy]\n",
      "   - --------------------------------------  1/21 [numpy]\n",
      "   - --------------------------------------  1/21 [numpy]\n",
      "   - --------------------------------------  1/21 [numpy]\n",
      "   - --------------------------------------  1/21 [numpy]\n",
      "   - --------------------------------------  1/21 [numpy]\n",
      "   - --------------------------------------  1/21 [numpy]\n",
      "   --- ------------------------------------  2/21 [murmurhash]\n",
      "   --------- ------------------------------  5/21 [cloudpathlib]\n",
      "   --------- ------------------------------  5/21 [cloudpathlib]\n",
      "   --------- ------------------------------  5/21 [cloudpathlib]\n",
      "   --------- ------------------------------  5/21 [cloudpathlib]\n",
      "   --------------- ------------------------  8/21 [srsly]\n",
      "   --------------- ------------------------  8/21 [srsly]\n",
      "   --------------- ------------------------  8/21 [srsly]\n",
      "   --------------- ------------------------  8/21 [srsly]\n",
      "   --------------- ------------------------  8/21 [srsly]\n",
      "   --------------- ------------------------  8/21 [srsly]\n",
      "   --------------- ------------------------  8/21 [srsly]\n",
      "   --------------- ------------------------  8/21 [srsly]\n",
      "   --------------- ------------------------  8/21 [srsly]\n",
      "   --------------- ------------------------  8/21 [srsly]\n",
      "   --------------- ------------------------  8/21 [srsly]\n",
      "   --------------- ------------------------  8/21 [srsly]\n",
      "   ----------------- ----------------------  9/21 [pydantic]\n",
      "   ----------------- ----------------------  9/21 [pydantic]\n",
      "   ----------------- ----------------------  9/21 [pydantic]\n",
      "   ----------------- ----------------------  9/21 [pydantic]\n",
      "   ----------------- ----------------------  9/21 [pydantic]\n",
      "   ----------------- ----------------------  9/21 [pydantic]\n",
      "   ----------------- ----------------------  9/21 [pydantic]\n",
      "   ----------------- ----------------------  9/21 [pydantic]\n",
      "   ----------------- ----------------------  9/21 [pydantic]\n",
      "   ----------------- ----------------------  9/21 [pydantic]\n",
      "   ----------------- ----------------------  9/21 [pydantic]\n",
      "   ----------------- ----------------------  9/21 [pydantic]\n",
      "   ------------------- -------------------- 10/21 [preshed]\n",
      "   -------------------- ------------------- 11/21 [markdown-it-py]\n",
      "   -------------------- ------------------- 11/21 [markdown-it-py]\n",
      "   -------------------- ------------------- 11/21 [markdown-it-py]\n",
      "   -------------------- ------------------- 11/21 [markdown-it-py]\n",
      "   -------------------- ------------------- 11/21 [markdown-it-py]\n",
      "   -------------------- ------------------- 11/21 [markdown-it-py]\n",
      "   ---------------------- ----------------- 12/21 [language-data]\n",
      "   ---------------------- ----------------- 12/21 [language-data]\n",
      "   ---------------------- ----------------- 12/21 [language-data]\n",
      "   ---------------------- ----------------- 12/21 [language-data]\n",
      "   ---------------------- ----------------- 12/21 [language-data]\n",
      "   ---------------------- ----------------- 12/21 [language-data]\n",
      "   ---------------------- ----------------- 12/21 [language-data]\n",
      "   ------------------------ --------------- 13/21 [blis]\n",
      "   ------------------------ --------------- 13/21 [blis]\n",
      "   -------------------------- ------------- 14/21 [rich]\n",
      "   -------------------------- ------------- 14/21 [rich]\n",
      "   -------------------------- ------------- 14/21 [rich]\n",
      "   -------------------------- ------------- 14/21 [rich]\n",
      "   -------------------------- ------------- 14/21 [rich]\n",
      "   -------------------------- ------------- 14/21 [rich]\n",
      "   -------------------------- ------------- 14/21 [rich]\n",
      "   ---------------------------- ----------- 15/21 [langcodes]\n",
      "   ---------------------------- ----------- 15/21 [langcodes]\n",
      "   ------------------------------ --------- 16/21 [confection]\n",
      "   -------------------------------- ------- 17/21 [typer]\n",
      "   -------------------------------- ------- 17/21 [typer]\n",
      "   ---------------------------------- ----- 18/21 [thinc]\n",
      "   ---------------------------------- ----- 18/21 [thinc]\n",
      "   ---------------------------------- ----- 18/21 [thinc]\n",
      "   ---------------------------------- ----- 18/21 [thinc]\n",
      "   ---------------------------------- ----- 18/21 [thinc]\n",
      "   ---------------------------------- ----- 18/21 [thinc]\n",
      "   ---------------------------------- ----- 18/21 [thinc]\n",
      "   ---------------------------------- ----- 18/21 [thinc]\n",
      "   ---------------------------------- ----- 18/21 [thinc]\n",
      "   ---------------------------------- ----- 18/21 [thinc]\n",
      "   ---------------------------------- ----- 18/21 [thinc]\n",
      "   ---------------------------------- ----- 18/21 [thinc]\n",
      "   ---------------------------------- ----- 18/21 [thinc]\n",
      "   ---------------------------------- ----- 18/21 [thinc]\n",
      "   ------------------------------------ --- 19/21 [weasel]\n",
      "   ------------------------------------ --- 19/21 [weasel]\n",
      "   ------------------------------------ --- 19/21 [weasel]\n",
      "   ------------------------------------ --- 19/21 [weasel]\n",
      "   -------------------------------------- - 20/21 [spacy]\n",
      "   -------------------------------------- - 20/21 [spacy]\n",
      "   -------------------------------------- - 20/21 [spacy]\n",
      "   -------------------------------------- - 20/21 [spacy]\n",
      "   -------------------------------------- - 20/21 [spacy]\n",
      "   -------------------------------------- - 20/21 [spacy]\n",
      "   -------------------------------------- - 20/21 [spacy]\n",
      "   -------------------------------------- - 20/21 [spacy]\n",
      "   -------------------------------------- - 20/21 [spacy]\n",
      "   -------------------------------------- - 20/21 [spacy]\n",
      "   -------------------------------------- - 20/21 [spacy]\n",
      "   -------------------------------------- - 20/21 [spacy]\n",
      "   -------------------------------------- - 20/21 [spacy]\n",
      "   -------------------------------------- - 20/21 [spacy]\n",
      "   -------------------------------------- - 20/21 [spacy]\n",
      "   -------------------------------------- - 20/21 [spacy]\n",
      "   -------------------------------------- - 20/21 [spacy]\n",
      "   -------------------------------------- - 20/21 [spacy]\n",
      "   -------------------------------------- - 20/21 [spacy]\n",
      "   -------------------------------------- - 20/21 [spacy]\n",
      "   -------------------------------------- - 20/21 [spacy]\n",
      "   -------------------------------------- - 20/21 [spacy]\n",
      "   -------------------------------------- - 20/21 [spacy]\n",
      "   -------------------------------------- - 20/21 [spacy]\n",
      "   -------------------------------------- - 20/21 [spacy]\n",
      "   -------------------------------------- - 20/21 [spacy]\n",
      "   -------------------------------------- - 20/21 [spacy]\n",
      "   -------------------------------------- - 20/21 [spacy]\n",
      "   -------------------------------------- - 20/21 [spacy]\n",
      "   -------------------------------------- - 20/21 [spacy]\n",
      "   -------------------------------------- - 20/21 [spacy]\n",
      "   -------------------------------------- - 20/21 [spacy]\n",
      "   -------------------------------------- - 20/21 [spacy]\n",
      "   -------------------------------------- - 20/21 [spacy]\n",
      "   -------------------------------------- - 20/21 [spacy]\n",
      "   -------------------------------------- - 20/21 [spacy]\n",
      "   -------------------------------------- - 20/21 [spacy]\n",
      "   -------------------------------------- - 20/21 [spacy]\n",
      "   -------------------------------------- - 20/21 [spacy]\n",
      "   -------------------------------------- - 20/21 [spacy]\n",
      "   -------------------------------------- - 20/21 [spacy]\n",
      "   -------------------------------------- - 20/21 [spacy]\n",
      "   -------------------------------------- - 20/21 [spacy]\n",
      "   -------------------------------------- - 20/21 [spacy]\n",
      "   -------------------------------------- - 20/21 [spacy]\n",
      "   -------------------------------------- - 20/21 [spacy]\n",
      "   -------------------------------------- - 20/21 [spacy]\n",
      "   -------------------------------------- - 20/21 [spacy]\n",
      "   -------------------------------------- - 20/21 [spacy]\n",
      "   -------------------------------------- - 20/21 [spacy]\n",
      "   -------------------------------------- - 20/21 [spacy]\n",
      "   -------------------------------------- - 20/21 [spacy]\n",
      "   -------------------------------------- - 20/21 [spacy]\n",
      "   -------------------------------------- - 20/21 [spacy]\n",
      "   -------------------------------------- - 20/21 [spacy]\n",
      "   -------------------------------------- - 20/21 [spacy]\n",
      "   -------------------------------------- - 20/21 [spacy]\n",
      "   -------------------------------------- - 20/21 [spacy]\n",
      "   -------------------------------------- - 20/21 [spacy]\n",
      "   -------------------------------------- - 20/21 [spacy]\n",
      "   -------------------------------------- - 20/21 [spacy]\n",
      "   -------------------------------------- - 20/21 [spacy]\n",
      "   -------------------------------------- - 20/21 [spacy]\n",
      "   -------------------------------------- - 20/21 [spacy]\n",
      "   -------------------------------------- - 20/21 [spacy]\n",
      "   -------------------------------------- - 20/21 [spacy]\n",
      "   -------------------------------------- - 20/21 [spacy]\n",
      "   -------------------------------------- - 20/21 [spacy]\n",
      "   -------------------------------------- - 20/21 [spacy]\n",
      "   -------------------------------------- - 20/21 [spacy]\n",
      "   -------------------------------------- - 20/21 [spacy]\n",
      "   -------------------------------------- - 20/21 [spacy]\n",
      "   -------------------------------------- - 20/21 [spacy]\n",
      "   -------------------------------------- - 20/21 [spacy]\n",
      "   -------------------------------------- - 20/21 [spacy]\n",
      "   ---------------------------------------- 21/21 [spacy]\n",
      "\n",
      "Successfully installed annotated-types-0.7.0 blis-1.3.0 catalogue-2.0.10 cloudpathlib-0.22.0 confection-0.1.5 langcodes-3.5.0 language-data-1.3.0 marisa-trie-1.3.1 markdown-it-py-4.0.0 mdurl-0.1.2 murmurhash-1.0.13 numpy-2.3.2 preshed-3.0.10 pydantic-2.11.7 rich-14.1.0 smart-open-7.3.0.post1 spacy-3.8.7 srsly-2.5.1 thinc-8.3.6 typer-0.17.3 weasel-0.4.1\n"
     ]
    },
    {
     "name": "stderr",
     "output_type": "stream",
     "text": [
      "WARNING: Ignoring invalid distribution ~umpy (C:\\Users\\User\\AppData\\Local\\Programs\\Python\\Python311\\Lib\\site-packages)\n",
      "WARNING: Ignoring invalid distribution ~umpy (C:\\Users\\User\\AppData\\Local\\Programs\\Python\\Python311\\Lib\\site-packages)\n",
      "  WARNING: Failed to remove contents in a temporary directory 'C:\\Users\\User\\AppData\\Local\\Programs\\Python\\Python311\\Lib\\site-packages\\~umpy'.\n",
      "  You can safely remove it manually.\n",
      "WARNING: Ignoring invalid distribution ~umpy (C:\\Users\\User\\AppData\\Local\\Programs\\Python\\Python311\\Lib\\site-packages)\n",
      "\n",
      "[notice] A new release of pip is available: 25.1.1 -> 25.2\n",
      "[notice] To update, run: python.exe -m pip install --upgrade pip\n"
     ]
    }
   ],
   "source": [
    "!pip install spacy\n"
   ]
  },
  {
   "cell_type": "code",
   "execution_count": 35,
   "id": "b1b499e1",
   "metadata": {},
   "outputs": [
    {
     "name": "stderr",
     "output_type": "stream",
     "text": [
      "c:\\Users\\User\\AppData\\Local\\Programs\\Python\\Python311\\python.exe: No module named spacy\n"
     ]
    }
   ],
   "source": [
    "!python -m spacy download en_core_web_sm\n",
    "\n"
   ]
  },
  {
   "cell_type": "code",
   "execution_count": 38,
   "id": "ce4a69a9",
   "metadata": {},
   "outputs": [
    {
     "name": "stdout",
     "output_type": "stream",
     "text": [
      "Requirement already satisfied: numpy in c:\\users\\user\\appdata\\local\\programs\\python\\python311\\lib\\site-packages (2.3.2)\n",
      "Note: you may need to restart the kernel to use updated packages.\n"
     ]
    },
    {
     "name": "stderr",
     "output_type": "stream",
     "text": [
      "WARNING: Ignoring invalid distribution ~umpy (c:\\Users\\User\\AppData\\Local\\Programs\\Python\\Python311\\Lib\\site-packages)\n",
      "WARNING: Ignoring invalid distribution ~umpy (c:\\Users\\User\\AppData\\Local\\Programs\\Python\\Python311\\Lib\\site-packages)\n",
      "WARNING: Ignoring invalid distribution ~umpy (c:\\Users\\User\\AppData\\Local\\Programs\\Python\\Python311\\Lib\\site-packages)\n",
      "\n",
      "[notice] A new release of pip is available: 25.1.1 -> 25.2\n",
      "[notice] To update, run: python.exe -m pip install --upgrade pip\n"
     ]
    }
   ],
   "source": [
    "pip install --upgrade numpy\n"
   ]
  },
  {
   "cell_type": "code",
   "execution_count": 39,
   "id": "748c7b6c",
   "metadata": {},
   "outputs": [
    {
     "name": "stdout",
     "output_type": "stream",
     "text": [
      "Requirement already satisfied: spacy in c:\\users\\user\\appdata\\local\\programs\\python\\python311\\lib\\site-packages (3.8.7)\n",
      "Requirement already satisfied: thinc in c:\\users\\user\\appdata\\local\\programs\\python\\python311\\lib\\site-packages (8.3.6)\n",
      "Collecting thinc\n",
      "  Downloading thinc-9.1.1-cp311-cp311-win_amd64.whl.metadata (15 kB)\n",
      "Requirement already satisfied: spacy-legacy<3.1.0,>=3.0.11 in c:\\users\\user\\appdata\\local\\programs\\python\\python311\\lib\\site-packages (from spacy) (3.0.12)\n",
      "Requirement already satisfied: spacy-loggers<2.0.0,>=1.0.0 in c:\\users\\user\\appdata\\local\\programs\\python\\python311\\lib\\site-packages (from spacy) (1.0.5)\n",
      "Requirement already satisfied: murmurhash<1.1.0,>=0.28.0 in c:\\users\\user\\appdata\\local\\programs\\python\\python311\\lib\\site-packages (from spacy) (1.0.13)\n",
      "Requirement already satisfied: cymem<2.1.0,>=2.0.2 in c:\\users\\user\\appdata\\local\\programs\\python\\python311\\lib\\site-packages (from spacy) (2.0.11)\n",
      "Requirement already satisfied: preshed<3.1.0,>=3.0.2 in c:\\users\\user\\appdata\\local\\programs\\python\\python311\\lib\\site-packages (from spacy) (3.0.10)\n",
      "Requirement already satisfied: wasabi<1.2.0,>=0.9.1 in c:\\users\\user\\appdata\\local\\programs\\python\\python311\\lib\\site-packages (from spacy) (1.1.3)\n",
      "Requirement already satisfied: srsly<3.0.0,>=2.4.3 in c:\\users\\user\\appdata\\local\\programs\\python\\python311\\lib\\site-packages (from spacy) (2.5.1)\n",
      "Requirement already satisfied: catalogue<2.1.0,>=2.0.6 in c:\\users\\user\\appdata\\local\\programs\\python\\python311\\lib\\site-packages (from spacy) (2.0.10)\n",
      "Requirement already satisfied: weasel<0.5.0,>=0.1.0 in c:\\users\\user\\appdata\\local\\programs\\python\\python311\\lib\\site-packages (from spacy) (0.4.1)\n",
      "Requirement already satisfied: typer<1.0.0,>=0.3.0 in c:\\users\\user\\appdata\\local\\programs\\python\\python311\\lib\\site-packages (from spacy) (0.17.3)\n",
      "Requirement already satisfied: tqdm<5.0.0,>=4.38.0 in c:\\users\\user\\appdata\\local\\programs\\python\\python311\\lib\\site-packages (from spacy) (4.67.1)\n",
      "Requirement already satisfied: numpy>=1.19.0 in c:\\users\\user\\appdata\\local\\programs\\python\\python311\\lib\\site-packages (from spacy) (2.3.2)\n",
      "Requirement already satisfied: requests<3.0.0,>=2.13.0 in c:\\users\\user\\appdata\\local\\programs\\python\\python311\\lib\\site-packages (from spacy) (2.32.4)\n",
      "Requirement already satisfied: pydantic!=1.8,!=1.8.1,<3.0.0,>=1.7.4 in c:\\users\\user\\appdata\\local\\programs\\python\\python311\\lib\\site-packages (from spacy) (2.11.7)\n",
      "Requirement already satisfied: jinja2 in c:\\users\\user\\appdata\\local\\programs\\python\\python311\\lib\\site-packages (from spacy) (3.1.6)\n",
      "Requirement already satisfied: setuptools in c:\\users\\user\\appdata\\local\\programs\\python\\python311\\lib\\site-packages (from spacy) (80.9.0)\n",
      "Requirement already satisfied: packaging>=20.0 in c:\\users\\user\\appdata\\local\\programs\\python\\python311\\lib\\site-packages (from spacy) (25.0)\n",
      "Requirement already satisfied: langcodes<4.0.0,>=3.2.0 in c:\\users\\user\\appdata\\local\\programs\\python\\python311\\lib\\site-packages (from spacy) (3.5.0)\n",
      "Requirement already satisfied: blis<1.4.0,>=1.3.0 in c:\\users\\user\\appdata\\local\\programs\\python\\python311\\lib\\site-packages (from thinc) (1.3.0)\n",
      "Requirement already satisfied: confection<1.0.0,>=0.0.1 in c:\\users\\user\\appdata\\local\\programs\\python\\python311\\lib\\site-packages (from thinc) (0.1.5)\n",
      "Requirement already satisfied: language-data>=1.2 in c:\\users\\user\\appdata\\local\\programs\\python\\python311\\lib\\site-packages (from langcodes<4.0.0,>=3.2.0->spacy) (1.3.0)\n",
      "Requirement already satisfied: annotated-types>=0.6.0 in c:\\users\\user\\appdata\\local\\programs\\python\\python311\\lib\\site-packages (from pydantic!=1.8,!=1.8.1,<3.0.0,>=1.7.4->spacy) (0.7.0)\n",
      "Requirement already satisfied: pydantic-core==2.33.2 in c:\\users\\user\\appdata\\local\\programs\\python\\python311\\lib\\site-packages (from pydantic!=1.8,!=1.8.1,<3.0.0,>=1.7.4->spacy) (2.33.2)\n",
      "Requirement already satisfied: typing-extensions>=4.12.2 in c:\\users\\user\\appdata\\local\\programs\\python\\python311\\lib\\site-packages (from pydantic!=1.8,!=1.8.1,<3.0.0,>=1.7.4->spacy) (4.14.0)\n",
      "Requirement already satisfied: typing-inspection>=0.4.0 in c:\\users\\user\\appdata\\local\\programs\\python\\python311\\lib\\site-packages (from pydantic!=1.8,!=1.8.1,<3.0.0,>=1.7.4->spacy) (0.4.1)\n",
      "Requirement already satisfied: charset_normalizer<4,>=2 in c:\\users\\user\\appdata\\local\\programs\\python\\python311\\lib\\site-packages (from requests<3.0.0,>=2.13.0->spacy) (3.4.2)\n",
      "Requirement already satisfied: idna<4,>=2.5 in c:\\users\\user\\appdata\\local\\programs\\python\\python311\\lib\\site-packages (from requests<3.0.0,>=2.13.0->spacy) (3.10)\n",
      "Requirement already satisfied: urllib3<3,>=1.21.1 in c:\\users\\user\\appdata\\local\\programs\\python\\python311\\lib\\site-packages (from requests<3.0.0,>=2.13.0->spacy) (2.4.0)\n",
      "Requirement already satisfied: certifi>=2017.4.17 in c:\\users\\user\\appdata\\local\\programs\\python\\python311\\lib\\site-packages (from requests<3.0.0,>=2.13.0->spacy) (2025.4.26)\n",
      "Requirement already satisfied: colorama in c:\\users\\user\\appdata\\local\\programs\\python\\python311\\lib\\site-packages (from tqdm<5.0.0,>=4.38.0->spacy) (0.4.6)\n",
      "Requirement already satisfied: click>=8.0.0 in c:\\users\\user\\appdata\\local\\programs\\python\\python311\\lib\\site-packages (from typer<1.0.0,>=0.3.0->spacy) (8.2.1)\n",
      "Requirement already satisfied: shellingham>=1.3.0 in c:\\users\\user\\appdata\\local\\programs\\python\\python311\\lib\\site-packages (from typer<1.0.0,>=0.3.0->spacy) (1.5.4)\n",
      "Requirement already satisfied: rich>=10.11.0 in c:\\users\\user\\appdata\\local\\programs\\python\\python311\\lib\\site-packages (from typer<1.0.0,>=0.3.0->spacy) (14.1.0)\n",
      "Requirement already satisfied: cloudpathlib<1.0.0,>=0.7.0 in c:\\users\\user\\appdata\\local\\programs\\python\\python311\\lib\\site-packages (from weasel<0.5.0,>=0.1.0->spacy) (0.22.0)\n",
      "Requirement already satisfied: smart-open<8.0.0,>=5.2.1 in c:\\users\\user\\appdata\\local\\programs\\python\\python311\\lib\\site-packages (from weasel<0.5.0,>=0.1.0->spacy) (7.3.0.post1)\n",
      "Requirement already satisfied: wrapt in c:\\users\\user\\appdata\\local\\programs\\python\\python311\\lib\\site-packages (from smart-open<8.0.0,>=5.2.1->weasel<0.5.0,>=0.1.0->spacy) (1.17.3)\n",
      "Requirement already satisfied: marisa-trie>=1.1.0 in c:\\users\\user\\appdata\\local\\programs\\python\\python311\\lib\\site-packages (from language-data>=1.2->langcodes<4.0.0,>=3.2.0->spacy) (1.3.1)\n",
      "Requirement already satisfied: markdown-it-py>=2.2.0 in c:\\users\\user\\appdata\\local\\programs\\python\\python311\\lib\\site-packages (from rich>=10.11.0->typer<1.0.0,>=0.3.0->spacy) (4.0.0)\n",
      "Requirement already satisfied: pygments<3.0.0,>=2.13.0 in c:\\users\\user\\appdata\\roaming\\python\\python311\\site-packages (from rich>=10.11.0->typer<1.0.0,>=0.3.0->spacy) (2.19.2)\n",
      "Requirement already satisfied: mdurl~=0.1 in c:\\users\\user\\appdata\\local\\programs\\python\\python311\\lib\\site-packages (from markdown-it-py>=2.2.0->rich>=10.11.0->typer<1.0.0,>=0.3.0->spacy) (0.1.2)\n",
      "Requirement already satisfied: MarkupSafe>=2.0 in c:\\users\\user\\appdata\\local\\programs\\python\\python311\\lib\\site-packages (from jinja2->spacy) (3.0.2)\n",
      "Note: you may need to restart the kernel to use updated packages.\n"
     ]
    },
    {
     "name": "stderr",
     "output_type": "stream",
     "text": [
      "WARNING: Ignoring invalid distribution ~umpy (c:\\Users\\User\\AppData\\Local\\Programs\\Python\\Python311\\Lib\\site-packages)\n",
      "WARNING: Ignoring invalid distribution ~umpy (c:\\Users\\User\\AppData\\Local\\Programs\\Python\\Python311\\Lib\\site-packages)\n",
      "WARNING: Ignoring invalid distribution ~umpy (c:\\Users\\User\\AppData\\Local\\Programs\\Python\\Python311\\Lib\\site-packages)\n",
      "\n",
      "[notice] A new release of pip is available: 25.1.1 -> 25.2\n",
      "[notice] To update, run: python.exe -m pip install --upgrade pip\n"
     ]
    }
   ],
   "source": [
    "pip install --upgrade spacy thinc\n"
   ]
  },
  {
   "cell_type": "code",
   "execution_count": 41,
   "id": "8bf36363",
   "metadata": {},
   "outputs": [],
   "source": [
    "import spacy\n",
    "from spacy.lang.en.stop_words import STOP_WORDS \n",
    "\n",
    "nlp = spacy.load(\"en_core_web_sm\")\n",
    "\n",
    "\n",
    "def clean_and_extract_tags(text):\n",
    "    doc = nlp(text.lower())\n",
    "    tags = [token.text for token in doc if token.text.isalnum() and token.text not in STOP_WORDS]\n",
    "    return ', '.join(tags)\n",
    "\n",
    "extractcolumn = ['Category', 'Brand', 'Description']\n",
    "\n",
    "for column in extractcolumn:\n",
    "   train_data[column]=train_data[column].apply(clean_and_extract_tags)\n"
   ]
  },
  {
   "cell_type": "code",
   "execution_count": 42,
   "id": "9cf73d5d",
   "metadata": {},
   "outputs": [
    {
     "data": {
      "text/html": [
       "<div>\n",
       "<style scoped>\n",
       "    .dataframe tbody tr th:only-of-type {\n",
       "        vertical-align: middle;\n",
       "    }\n",
       "\n",
       "    .dataframe tbody tr th {\n",
       "        vertical-align: top;\n",
       "    }\n",
       "\n",
       "    .dataframe thead th {\n",
       "        text-align: right;\n",
       "    }\n",
       "</style>\n",
       "<table border=\"1\" class=\"dataframe\">\n",
       "  <thead>\n",
       "    <tr style=\"text-align: right;\">\n",
       "      <th></th>\n",
       "      <th>ID</th>\n",
       "      <th>ProdID</th>\n",
       "      <th>Rating</th>\n",
       "      <th>ReviewCount</th>\n",
       "      <th>Category</th>\n",
       "      <th>Brand</th>\n",
       "      <th>Name</th>\n",
       "      <th>ImageURL</th>\n",
       "      <th>Description</th>\n",
       "      <th>Tags</th>\n",
       "      <th>Price</th>\n",
       "    </tr>\n",
       "  </thead>\n",
       "  <tbody>\n",
       "    <tr>\n",
       "      <th>0</th>\n",
       "      <td>1705736792d82aa2f2d3caf1c07c53f4</td>\n",
       "      <td>2e17bf4acecdece67fc00f07ad62c910</td>\n",
       "      <td>No Ratings Available</td>\n",
       "      <td>No Reviews Yet</td>\n",
       "      <td>premium, beauty, premium, makeup, premium, nai...</td>\n",
       "      <td>opi</td>\n",
       "      <td>OPI Infinite Shine, Nail Lacquer Nail Polish, ...</td>\n",
       "      <td>https://i5.walmartimages.com/asr/0e1f4c51-c1a4...</td>\n",
       "      <td>high, quality, product, trusted, brand, offers...</td>\n",
       "      <td>OPI Infinite Shine, Nail Lacquer Nail Polish, ...</td>\n",
       "      <td>8.95</td>\n",
       "    </tr>\n",
       "  </tbody>\n",
       "</table>\n",
       "</div>"
      ],
      "text/plain": [
       "                                 ID                            ProdID  \\\n",
       "0  1705736792d82aa2f2d3caf1c07c53f4  2e17bf4acecdece67fc00f07ad62c910   \n",
       "\n",
       "                 Rating     ReviewCount  \\\n",
       "0  No Ratings Available  No Reviews Yet   \n",
       "\n",
       "                                            Category Brand  \\\n",
       "0  premium, beauty, premium, makeup, premium, nai...   opi   \n",
       "\n",
       "                                                Name  \\\n",
       "0  OPI Infinite Shine, Nail Lacquer Nail Polish, ...   \n",
       "\n",
       "                                            ImageURL  \\\n",
       "0  https://i5.walmartimages.com/asr/0e1f4c51-c1a4...   \n",
       "\n",
       "                                         Description  \\\n",
       "0  high, quality, product, trusted, brand, offers...   \n",
       "\n",
       "                                                Tags  Price  \n",
       "0  OPI Infinite Shine, Nail Lacquer Nail Polish, ...   8.95  "
      ]
     },
     "execution_count": 42,
     "metadata": {},
     "output_type": "execute_result"
    }
   ],
   "source": [
    "train_data.head(1)"
   ]
  },
  {
   "cell_type": "code",
   "execution_count": 43,
   "id": "f551b0b1",
   "metadata": {},
   "outputs": [],
   "source": [
    "train_data['Tags'] = train_data[extractcolumn].apply(lambda row: ', '.join(row), axis=1)"
   ]
  },
  {
   "cell_type": "code",
   "execution_count": 44,
   "id": "a16bf553",
   "metadata": {},
   "outputs": [
    {
     "data": {
      "text/plain": [
       "'Kokie Professional Matte Lipstick, Hot Berry, 0.14 fl oz'"
      ]
     },
     "execution_count": 44,
     "metadata": {},
     "output_type": "execute_result"
    }
   ],
   "source": [
    "train_data['Name'][3]"
   ]
  },
  {
   "cell_type": "code",
   "execution_count": 45,
   "id": "1e8afdbe",
   "metadata": {},
   "outputs": [
    {
     "data": {
      "text/plain": [
       "'old, spice, artisan, molding, clay, mens, styling, product, allows, men, sculpt, hair, moldable, look, high, hold, matte, finish, old, spice, artisan, styling, high, hold, matte, finish, molding, clay, oz, old, spice, artisan, molding, clay, provides, high, hold, matte, finish, old, spice, artisan, molding, clay, helps, tame, shape, hair, moldable, look, available, size, 75, g, oz, puck'"
      ]
     },
     "execution_count": 45,
     "metadata": {},
     "output_type": "execute_result"
    }
   ],
   "source": [
    "train_data['Description'][5]"
   ]
  },
  {
   "cell_type": "code",
   "execution_count": 46,
   "id": "45291317",
   "metadata": {},
   "outputs": [
    {
     "data": {
      "text/plain": [
       "'beauty, hair, care, hair, care, brands, old, spice, haircare, old, spice, old, spice, artisan, molding, clay, mens, styling, product, allows, men, sculpt, hair, moldable, look, high, hold, matte, finish, old, spice, artisan, styling, high, hold, matte, finish, molding, clay, oz, old, spice, artisan, molding, clay, provides, high, hold, matte, finish, old, spice, artisan, molding, clay, helps, tame, shape, hair, moldable, look, available, size, 75, g, oz, puck'"
      ]
     },
     "execution_count": 46,
     "metadata": {},
     "output_type": "execute_result"
    }
   ],
   "source": [
    "train_data['Tags'][5]"
   ]
  },
  {
   "cell_type": "code",
   "execution_count": 47,
   "id": "2b366e95",
   "metadata": {},
   "outputs": [
    {
     "data": {
      "text/plain": [
       "988"
      ]
     },
     "execution_count": 47,
     "metadata": {},
     "output_type": "execute_result"
    }
   ],
   "source": [
    "train_data['Name'][800]\n",
    "train_data['Category'].nunique()"
   ]
  },
  {
   "cell_type": "code",
   "execution_count": 48,
   "id": "76abf93b",
   "metadata": {},
   "outputs": [],
   "source": [
    "train_data['Price'] = train_data['Price']*100"
   ]
  },
  {
   "cell_type": "code",
   "execution_count": 49,
   "id": "2db03b2f",
   "metadata": {},
   "outputs": [],
   "source": [
    "train_data['Description'] = newValue"
   ]
  },
  {
   "cell_type": "code",
   "execution_count": 50,
   "id": "0ae99477",
   "metadata": {},
   "outputs": [
    {
     "data": {
      "text/plain": [
       "'Vaseline Lip Therapy Lip Balm Mini Rosy is clinically proven to help heal dry lips. The non-sticky formulas of Vaseline lip balm minis are invitingly soft and melt onto lips. The Vaseline Lip Therapy Rosy Mini comes in iconic packaging that fits neatly in your pocket or purse, so you can hydrate on-the-go. Vaseline for Lips is the perfect lip moisturizer. With its original formula, Vaseline Lip Therapy is a lip balm you can rely on that provides long-lasting relief from dryness. This everyday essential for healthy-looking lips is made with pure Vaseline Jelly, just like all Vaseline lip care products. Vaseline Jelly is the original wonder jelly that has been helping to heal dry skin since 1870, and now you can get all its benefits in a lip balm product exclusively designed for lips. The top, protective layer of skin on your lips is thinner than on the rest of your body, so it needs a lip balm that provides long lasting moisturization. These formulas help support the natural recovery of your dry lips by locking in moisture. Perfect for On-The-Go. The elements can be hard on your lips, so its essential to keep them moisturized. Vaseline Lip Therapy Lip Balm Mini Rosy is great for safeguarding against dryness caused by weather, so you can be confident that your lips are ready to face the outdoors. Vaseline Lip Therapy Rosy Tinted Lip Balm Mini, 0.25 oz Helps to lock in moisture for beautiful, healthy lips - good for a daily lip treatment This Vaseline lip moisturizer Gives lips a natural, glossy shine Tinted lip balm made from pure Vaseline Jelly Provides long-lasting moisturization and lip care Choose from original, rose, cocoa butter, and crÃ¨me brulee scented lip balm Non-sticky, non-greasy formula, this lip balm is suitable for regular use'"
      ]
     },
     "execution_count": 50,
     "metadata": {},
     "output_type": "execute_result"
    }
   ],
   "source": [
    "train_data['Description'][9]"
   ]
  },
  {
   "cell_type": "code",
   "execution_count": 51,
   "id": "9443b853",
   "metadata": {},
   "outputs": [
    {
     "data": {
      "text/html": [
       "<div>\n",
       "<style scoped>\n",
       "    .dataframe tbody tr th:only-of-type {\n",
       "        vertical-align: middle;\n",
       "    }\n",
       "\n",
       "    .dataframe tbody tr th {\n",
       "        vertical-align: top;\n",
       "    }\n",
       "\n",
       "    .dataframe thead th {\n",
       "        text-align: right;\n",
       "    }\n",
       "</style>\n",
       "<table border=\"1\" class=\"dataframe\">\n",
       "  <thead>\n",
       "    <tr style=\"text-align: right;\">\n",
       "      <th></th>\n",
       "      <th>ID</th>\n",
       "      <th>ProdID</th>\n",
       "      <th>Rating</th>\n",
       "      <th>ReviewCount</th>\n",
       "      <th>Category</th>\n",
       "      <th>Brand</th>\n",
       "      <th>Name</th>\n",
       "      <th>ImageURL</th>\n",
       "      <th>Description</th>\n",
       "      <th>Tags</th>\n",
       "      <th>Price</th>\n",
       "    </tr>\n",
       "  </thead>\n",
       "  <tbody>\n",
       "    <tr>\n",
       "      <th>0</th>\n",
       "      <td>1705736792d82aa2f2d3caf1c07c53f4</td>\n",
       "      <td>2e17bf4acecdece67fc00f07ad62c910</td>\n",
       "      <td>No Ratings Available</td>\n",
       "      <td>No Reviews Yet</td>\n",
       "      <td>premium, beauty, premium, makeup, premium, nai...</td>\n",
       "      <td>opi</td>\n",
       "      <td>OPI Infinite Shine, Nail Lacquer Nail Polish, ...</td>\n",
       "      <td>https://i5.walmartimages.com/asr/0e1f4c51-c1a4...</td>\n",
       "      <td>This high-quality product from a trusted brand...</td>\n",
       "      <td>premium, beauty, premium, makeup, premium, nai...</td>\n",
       "      <td>895.0</td>\n",
       "    </tr>\n",
       "  </tbody>\n",
       "</table>\n",
       "</div>"
      ],
      "text/plain": [
       "                                 ID                            ProdID  \\\n",
       "0  1705736792d82aa2f2d3caf1c07c53f4  2e17bf4acecdece67fc00f07ad62c910   \n",
       "\n",
       "                 Rating     ReviewCount  \\\n",
       "0  No Ratings Available  No Reviews Yet   \n",
       "\n",
       "                                            Category Brand  \\\n",
       "0  premium, beauty, premium, makeup, premium, nai...   opi   \n",
       "\n",
       "                                                Name  \\\n",
       "0  OPI Infinite Shine, Nail Lacquer Nail Polish, ...   \n",
       "\n",
       "                                            ImageURL  \\\n",
       "0  https://i5.walmartimages.com/asr/0e1f4c51-c1a4...   \n",
       "\n",
       "                                         Description  \\\n",
       "0  This high-quality product from a trusted brand...   \n",
       "\n",
       "                                                Tags  Price  \n",
       "0  premium, beauty, premium, makeup, premium, nai...  895.0  "
      ]
     },
     "execution_count": 51,
     "metadata": {},
     "output_type": "execute_result"
    }
   ],
   "source": [
    "train_data.head(1)"
   ]
  },
  {
   "cell_type": "code",
   "execution_count": 52,
   "id": "c3f124a3",
   "metadata": {},
   "outputs": [
    {
     "data": {
      "text/plain": [
       "0       False\n",
       "1       False\n",
       "2       False\n",
       "3       False\n",
       "4       False\n",
       "        ...  \n",
       "4995    False\n",
       "4996    False\n",
       "4997    False\n",
       "4998    False\n",
       "4999    False\n",
       "Name: ID, Length: 5000, dtype: bool"
      ]
     },
     "execution_count": 52,
     "metadata": {},
     "output_type": "execute_result"
    }
   ],
   "source": [
    "# train_data.to_csv('clean_dataset.csv',index=False)\n",
    "\n",
    "train_data['ID'].duplicated()"
   ]
  },
  {
   "cell_type": "code",
   "execution_count": 53,
   "id": "ff277d4b",
   "metadata": {},
   "outputs": [
    {
     "name": "stdout",
     "output_type": "stream",
     "text": [
      "ID              object\n",
      "ProdID          object\n",
      "Rating          object\n",
      "ReviewCount     object\n",
      "Category        object\n",
      "Brand           object\n",
      "Name            object\n",
      "ImageURL        object\n",
      "Description     object\n",
      "Tags            object\n",
      "Price          float64\n",
      "dtype: object\n"
     ]
    }
   ],
   "source": [
    "print(train_data.dtypes)"
   ]
  },
  {
   "cell_type": "code",
   "execution_count": 54,
   "metadata": {},
   "outputs": [
    {
     "data": {
      "text/plain": [
       "'c5f6f924577db476beed05092c185a81'"
      ]
     },
     "execution_count": 54,
     "metadata": {},
     "output_type": "execute_result"
    }
   ],
   "source": [
    "thirtysample = train_data.sample(n=30, random_state=52)\n",
    "\n",
    "# print(thirtysample.columns)\n",
    "\n",
    "thirtysample = thirtysample[['ID','Name','ReviewCount','Brand','ImageURL','Rating','Description','Category','Price']]\n",
    "(thirtysample['ID'][2803])\n"
   ]
  },
  {
   "cell_type": "code",
   "execution_count": 55,
   "id": "83397978",
   "metadata": {},
   "outputs": [],
   "source": [
    "# thirtsysample.to_csv('thirtyRecords.csv',index=False)"
   ]
  },
  {
   "cell_type": "code",
   "execution_count": 56,
   "id": "b95cf4ba",
   "metadata": {},
   "outputs": [],
   "source": [
    "\n",
    "train_data['Rating'] = pd.to_numeric(train_data['Rating'], errors='coerce') \n",
    "train_data['ReviewCount'] = pd.to_numeric(train_data['ReviewCount'], errors='coerce')\n"
   ]
  },
  {
   "cell_type": "code",
   "execution_count": 57,
   "id": "e097b68f",
   "metadata": {},
   "outputs": [],
   "source": [
    "#Rating Based Recommendation\n",
    "average_rating = train_data.groupby(['Name','ReviewCount','Brand','ImageURL','Description','Price'])['Rating'].mean().reset_index()"
   ]
  },
  {
   "cell_type": "code",
   "execution_count": 58,
   "id": "37cdbf1d",
   "metadata": {},
   "outputs": [],
   "source": [
    "top_items=average_rating.sort_values(by='Rating', ascending=False)\n",
    "rating_based = top_items.head(10)"
   ]
  },
  {
   "cell_type": "code",
   "execution_count": 59,
   "id": "1a56c7bc",
   "metadata": {},
   "outputs": [
    {
     "name": "stderr",
     "output_type": "stream",
     "text": [
      "C:\\Users\\User\\AppData\\Local\\Temp\\ipykernel_9928\\3654267230.py:1: SettingWithCopyWarning: \n",
      "A value is trying to be set on a copy of a slice from a DataFrame.\n",
      "Try using .loc[row_indexer,col_indexer] = value instead\n",
      "\n",
      "See the caveats in the documentation: https://pandas.pydata.org/pandas-docs/stable/user_guide/indexing.html#returning-a-view-versus-a-copy\n",
      "  rating_based['Rating'] = rating_based['Rating'].astype(int)\n",
      "C:\\Users\\User\\AppData\\Local\\Temp\\ipykernel_9928\\3654267230.py:2: SettingWithCopyWarning: \n",
      "A value is trying to be set on a copy of a slice from a DataFrame.\n",
      "Try using .loc[row_indexer,col_indexer] = value instead\n",
      "\n",
      "See the caveats in the documentation: https://pandas.pydata.org/pandas-docs/stable/user_guide/indexing.html#returning-a-view-versus-a-copy\n",
      "  rating_based['ReviewCount'] = rating_based['ReviewCount'].astype(int)\n"
     ]
    }
   ],
   "source": [
    "rating_based['Rating'] = rating_based['Rating'].astype(int)\n",
    "rating_based['ReviewCount'] = rating_based['ReviewCount'].astype(int)"
   ]
  },
  {
   "cell_type": "code",
   "execution_count": 61,
   "id": "ae6d0689",
   "metadata": {},
   "outputs": [
    {
     "name": "stdout",
     "output_type": "stream",
     "text": [
      "Index(['Name', 'ReviewCount', 'Brand', 'ImageURL', 'Description', 'Price',\n",
      "       'Rating'],\n",
      "      dtype='object')\n"
     ]
    }
   ],
   "source": [
    "print(rating_based.columns)\n"
   ]
  },
  {
   "cell_type": "code",
   "execution_count": 62,
   "id": "aadf7aa4",
   "metadata": {},
   "outputs": [
    {
     "name": "stdout",
     "output_type": "stream",
     "text": [
      "Rating Base Recommendation System: (Trending Products)\n"
     ]
    },
    {
     "name": "stderr",
     "output_type": "stream",
     "text": [
      "C:\\Users\\User\\AppData\\Local\\Temp\\ipykernel_9928\\726225674.py:5: SettingWithCopyWarning: \n",
      "A value is trying to be set on a copy of a slice from a DataFrame.\n",
      "Try using .loc[row_indexer,col_indexer] = value instead\n",
      "\n",
      "See the caveats in the documentation: https://pandas.pydata.org/pandas-docs/stable/user_guide/indexing.html#returning-a-view-versus-a-copy\n",
      "  rating_based['Category'] = 'Unknown'\n"
     ]
    },
    {
     "data": {
      "text/html": [
       "<div>\n",
       "<style scoped>\n",
       "    .dataframe tbody tr th:only-of-type {\n",
       "        vertical-align: middle;\n",
       "    }\n",
       "\n",
       "    .dataframe tbody tr th {\n",
       "        vertical-align: top;\n",
       "    }\n",
       "\n",
       "    .dataframe thead th {\n",
       "        text-align: right;\n",
       "    }\n",
       "</style>\n",
       "<table border=\"1\" class=\"dataframe\">\n",
       "  <thead>\n",
       "    <tr style=\"text-align: right;\">\n",
       "      <th></th>\n",
       "      <th>Name</th>\n",
       "      <th>Rating</th>\n",
       "      <th>ReviewCount</th>\n",
       "      <th>Brand</th>\n",
       "      <th>ImageURL</th>\n",
       "      <th>Category</th>\n",
       "    </tr>\n",
       "  </thead>\n",
       "  <tbody>\n",
       "    <tr>\n",
       "      <th>2481</th>\n",
       "      <td>Prevail AIR Brief, Size 1, Stretchable Breatha...</td>\n",
       "      <td>5</td>\n",
       "      <td>1</td>\n",
       "      <td>prevail</td>\n",
       "      <td>https://i5.walmartimages.com/asr/aff41091-c2c7...</td>\n",
       "      <td>Unknown</td>\n",
       "    </tr>\n",
       "    <tr>\n",
       "      <th>2205</th>\n",
       "      <td>OPI Nail Lacquer, Teal The Cows Come Home, 0.5 Oz</td>\n",
       "      <td>5</td>\n",
       "      <td>2</td>\n",
       "      <td>opi</td>\n",
       "      <td>https://i5.walmartimages.com/asr/16f3dafc-2430...</td>\n",
       "      <td>Unknown</td>\n",
       "    </tr>\n",
       "    <tr>\n",
       "      <th>2420</th>\n",
       "      <td>Physicians Formula Nude Wear Glowing Nude Blus...</td>\n",
       "      <td>5</td>\n",
       "      <td>2</td>\n",
       "      <td>physicians, formula</td>\n",
       "      <td>https://i5.walmartimages.com/asr/85eb7bee-8f42...</td>\n",
       "      <td>Unknown</td>\n",
       "    </tr>\n",
       "    <tr>\n",
       "      <th>2416</th>\n",
       "      <td>Philosophy Pure Grace Nude Rose Body Lotion, 1...</td>\n",
       "      <td>5</td>\n",
       "      <td>1</td>\n",
       "      <td>philosophy</td>\n",
       "      <td>https://i5.walmartimages.com/asr/afd43403-7b33...</td>\n",
       "      <td>Unknown</td>\n",
       "    </tr>\n",
       "    <tr>\n",
       "      <th>2409</th>\n",
       "      <td>Philips Sonicare HX9023/65 C2 Optimal Plaque C...</td>\n",
       "      <td>5</td>\n",
       "      <td>1</td>\n",
       "      <td>sonicare</td>\n",
       "      <td>https://i5.walmartimages.com/asr/767db079-1563...</td>\n",
       "      <td>Unknown</td>\n",
       "    </tr>\n",
       "    <tr>\n",
       "      <th>873</th>\n",
       "      <td>Colgate Total Whole Mouth Health Gel Toothpast...</td>\n",
       "      <td>5</td>\n",
       "      <td>1</td>\n",
       "      <td>colgate</td>\n",
       "      <td>https://i5.walmartimages.com/asr/51016094-008e...</td>\n",
       "      <td>Unknown</td>\n",
       "    </tr>\n",
       "    <tr>\n",
       "      <th>2404</th>\n",
       "      <td>Peter Thomas Roth Water Drench Hyaluronic Clou...</td>\n",
       "      <td>5</td>\n",
       "      <td>2</td>\n",
       "      <td>peter, thomas, roth</td>\n",
       "      <td>https://i5.walmartimages.com/asr/2178c851-e4ae...</td>\n",
       "      <td>Unknown</td>\n",
       "    </tr>\n",
       "    <tr>\n",
       "      <th>2396</th>\n",
       "      <td>Perricone MD Face Finishing Moisturizer 118ml/...</td>\n",
       "      <td>5</td>\n",
       "      <td>2</td>\n",
       "      <td>perricone, md</td>\n",
       "      <td>https://i5.walmartimages.com/asr/c958cad5-7996...</td>\n",
       "      <td>Unknown</td>\n",
       "    </tr>\n",
       "    <tr>\n",
       "      <th>880</th>\n",
       "      <td>Colorescience Sunforgettable Brush On Sunscree...</td>\n",
       "      <td>5</td>\n",
       "      <td>3</td>\n",
       "      <td>colorescience</td>\n",
       "      <td>https://i5.walmartimages.com/asr/e4582fe9-7bc7...</td>\n",
       "      <td>Unknown</td>\n",
       "    </tr>\n",
       "    <tr>\n",
       "      <th>2392</th>\n",
       "      <td>Perfecting Neck and Decollete Cream</td>\n",
       "      <td>5</td>\n",
       "      <td>1</td>\n",
       "      <td>pca, skin</td>\n",
       "      <td>https://i5.walmartimages.com/asr/7d49107b-85a2...</td>\n",
       "      <td>Unknown</td>\n",
       "    </tr>\n",
       "  </tbody>\n",
       "</table>\n",
       "</div>"
      ],
      "text/plain": [
       "                                                   Name  Rating  ReviewCount  \\\n",
       "2481  Prevail AIR Brief, Size 1, Stretchable Breatha...       5            1   \n",
       "2205  OPI Nail Lacquer, Teal The Cows Come Home, 0.5 Oz       5            2   \n",
       "2420  Physicians Formula Nude Wear Glowing Nude Blus...       5            2   \n",
       "2416  Philosophy Pure Grace Nude Rose Body Lotion, 1...       5            1   \n",
       "2409  Philips Sonicare HX9023/65 C2 Optimal Plaque C...       5            1   \n",
       "873   Colgate Total Whole Mouth Health Gel Toothpast...       5            1   \n",
       "2404  Peter Thomas Roth Water Drench Hyaluronic Clou...       5            2   \n",
       "2396  Perricone MD Face Finishing Moisturizer 118ml/...       5            2   \n",
       "880   Colorescience Sunforgettable Brush On Sunscree...       5            3   \n",
       "2392                Perfecting Neck and Decollete Cream       5            1   \n",
       "\n",
       "                    Brand                                           ImageURL  \\\n",
       "2481              prevail  https://i5.walmartimages.com/asr/aff41091-c2c7...   \n",
       "2205                  opi  https://i5.walmartimages.com/asr/16f3dafc-2430...   \n",
       "2420  physicians, formula  https://i5.walmartimages.com/asr/85eb7bee-8f42...   \n",
       "2416           philosophy  https://i5.walmartimages.com/asr/afd43403-7b33...   \n",
       "2409             sonicare  https://i5.walmartimages.com/asr/767db079-1563...   \n",
       "873               colgate  https://i5.walmartimages.com/asr/51016094-008e...   \n",
       "2404  peter, thomas, roth  https://i5.walmartimages.com/asr/2178c851-e4ae...   \n",
       "2396        perricone, md  https://i5.walmartimages.com/asr/c958cad5-7996...   \n",
       "880         colorescience  https://i5.walmartimages.com/asr/e4582fe9-7bc7...   \n",
       "2392            pca, skin  https://i5.walmartimages.com/asr/7d49107b-85a2...   \n",
       "\n",
       "     Category  \n",
       "2481  Unknown  \n",
       "2205  Unknown  \n",
       "2420  Unknown  \n",
       "2416  Unknown  \n",
       "2409  Unknown  \n",
       "873   Unknown  \n",
       "2404  Unknown  \n",
       "2396  Unknown  \n",
       "880   Unknown  \n",
       "2392  Unknown  "
      ]
     },
     "execution_count": 62,
     "metadata": {},
     "output_type": "execute_result"
    }
   ],
   "source": [
    "print(\"Rating Base Recommendation System: (Trending Products)\")\n",
    "\n",
    "# Add Category column if missing\n",
    "if 'Category' not in rating_based.columns:\n",
    "    rating_based['Category'] = 'Unknown'\n",
    "\n",
    "# Select required columns\n",
    "rating_based = rating_based[['Name', 'Rating', 'ReviewCount', 'Brand', 'ImageURL', 'Category']]\n",
    "\n",
    "# Display nicely in Jupyter\n",
    "rating_based.head(10)   # shows first 10 rows (you can change the number)\n"
   ]
  },
  {
   "cell_type": "code",
   "execution_count": 63,
   "metadata": {},
   "outputs": [],
   "source": [
    "# rating_based.to_csv('trending_products.csv',index=False)"
   ]
  },
  {
   "cell_type": "code",
   "execution_count": 64,
   "id": "a3964ce7",
   "metadata": {},
   "outputs": [],
   "source": [
    "#Content Based Recommendation \n",
    "from sklearn.feature_extraction.text import TfidfVectorizer\n",
    "from sklearn.metrics.pairwise import cosine_similarity\n",
    "\n",
    "tfidf_vectorizer = TfidfVectorizer(stop_words='english')\n",
    "tfidf_matrix_content = tfidf_vectorizer.fit_transform(train_data['Tags'])\n",
    "cosine_similarities_content = cosine_similarity(tfidf_matrix_content,tfidf_matrix_content)"
   ]
  },
  {
   "cell_type": "code",
   "execution_count": 65,
   "id": "7ac90100",
   "metadata": {},
   "outputs": [],
   "source": [
    "item_name = 'OPI Infinite Shine, Nail Lacquer Nail Polish, Bubble Bath'\n",
    "item_index = train_data[train_data['Name']==item_name].index[0]"
   ]
  },
  {
   "cell_type": "code",
   "execution_count": 66,
   "id": "91005a94",
   "metadata": {},
   "outputs": [],
   "source": [
    "similar_items = list(enumerate(cosine_similarities_content[item_index]))\n"
   ]
  },
  {
   "cell_type": "code",
   "execution_count": 67,
   "id": "66670fea",
   "metadata": {},
   "outputs": [],
   "source": [
    "similar_items = sorted(similar_items, key=lambda x:x[1], reverse=True)\n",
    "top_similar_items = similar_items[1:10]\n",
    "\n",
    "recommended_items_indices = [x[0] for x in top_similar_items]"
   ]
  },
  {
   "cell_type": "code",
   "execution_count": 68,
   "metadata": {},
   "outputs": [
    {
     "data": {
      "text/html": [
       "<div>\n",
       "<style scoped>\n",
       "    .dataframe tbody tr th:only-of-type {\n",
       "        vertical-align: middle;\n",
       "    }\n",
       "\n",
       "    .dataframe tbody tr th {\n",
       "        vertical-align: top;\n",
       "    }\n",
       "\n",
       "    .dataframe thead th {\n",
       "        text-align: right;\n",
       "    }\n",
       "</style>\n",
       "<table border=\"1\" class=\"dataframe\">\n",
       "  <thead>\n",
       "    <tr style=\"text-align: right;\">\n",
       "      <th></th>\n",
       "      <th>Name</th>\n",
       "      <th>ReviewCount</th>\n",
       "      <th>Brand</th>\n",
       "    </tr>\n",
       "  </thead>\n",
       "  <tbody>\n",
       "    <tr>\n",
       "      <th>156</th>\n",
       "      <td>OPI Nail Lacquer Polish .5oz/15mL - This Gown ...</td>\n",
       "      <td>NaN</td>\n",
       "      <td>opi</td>\n",
       "    </tr>\n",
       "    <tr>\n",
       "      <th>184</th>\n",
       "      <td>OPI Nail Gel Polish GelColor .5oz/15mL 3 CT Co...</td>\n",
       "      <td>NaN</td>\n",
       "      <td>opi</td>\n",
       "    </tr>\n",
       "    <tr>\n",
       "      <th>205</th>\n",
       "      <td>OPI Nail Lacquer - Dont Bossa Nova Me Around -...</td>\n",
       "      <td>NaN</td>\n",
       "      <td>opi</td>\n",
       "    </tr>\n",
       "    <tr>\n",
       "      <th>237</th>\n",
       "      <td>OPI Infinite Shine 2 Polish - ISL P33 - Alpaca...</td>\n",
       "      <td>5.0</td>\n",
       "      <td>opi</td>\n",
       "    </tr>\n",
       "    <tr>\n",
       "      <th>325</th>\n",
       "      <td>OPI Gel Polish Fall 2019 Scotland Collection G...</td>\n",
       "      <td>1.0</td>\n",
       "      <td>opi</td>\n",
       "    </tr>\n",
       "    <tr>\n",
       "      <th>375</th>\n",
       "      <td>OPI Nail Gel Polish GelColor .5oz/15mL 3 CT Co...</td>\n",
       "      <td>1.0</td>\n",
       "      <td>opi</td>\n",
       "    </tr>\n",
       "    <tr>\n",
       "      <th>402</th>\n",
       "      <td>OPI Nail Polish, Strawberry Margarita, 0.5 Fl Oz</td>\n",
       "      <td>57.0</td>\n",
       "      <td>opi</td>\n",
       "    </tr>\n",
       "    <tr>\n",
       "      <th>706</th>\n",
       "      <td>OPI Nail Gel Polish GelColor .5oz/15mL 3 CT Co...</td>\n",
       "      <td>1.0</td>\n",
       "      <td>opi</td>\n",
       "    </tr>\n",
       "    <tr>\n",
       "      <th>886</th>\n",
       "      <td>OPI- Nail Lacquer-GelColor - &amp;quotLiv&amp;quotin t...</td>\n",
       "      <td>NaN</td>\n",
       "      <td>opi</td>\n",
       "    </tr>\n",
       "  </tbody>\n",
       "</table>\n",
       "</div>"
      ],
      "text/plain": [
       "                                                  Name  ReviewCount Brand\n",
       "156  OPI Nail Lacquer Polish .5oz/15mL - This Gown ...          NaN   opi\n",
       "184  OPI Nail Gel Polish GelColor .5oz/15mL 3 CT Co...          NaN   opi\n",
       "205  OPI Nail Lacquer - Dont Bossa Nova Me Around -...          NaN   opi\n",
       "237  OPI Infinite Shine 2 Polish - ISL P33 - Alpaca...          5.0   opi\n",
       "325  OPI Gel Polish Fall 2019 Scotland Collection G...          1.0   opi\n",
       "375  OPI Nail Gel Polish GelColor .5oz/15mL 3 CT Co...          1.0   opi\n",
       "402   OPI Nail Polish, Strawberry Margarita, 0.5 Fl Oz         57.0   opi\n",
       "706  OPI Nail Gel Polish GelColor .5oz/15mL 3 CT Co...          1.0   opi\n",
       "886  OPI- Nail Lacquer-GelColor - &quotLiv&quotin t...          NaN   opi"
      ]
     },
     "execution_count": 68,
     "metadata": {},
     "output_type": "execute_result"
    }
   ],
   "source": [
    "train_data.iloc[recommended_items_indices][['Name','ReviewCount','Brand']]"
   ]
  },
  {
   "cell_type": "code",
   "execution_count": 69,
   "id": "5fb9fbdf",
   "metadata": {},
   "outputs": [],
   "source": [
    "from sklearn.feature_extraction.text import TfidfVectorizer\n",
    "from sklearn.metrics.pairwise import cosine_similarity\n",
    "\n",
    "def content_based_recommendations(train_data, item_name, top_n=10):\n",
    "    \n",
    "    if item_name not in train_data['Name'].values:\n",
    "        print(f\"Item '{item_name}' not found in the training data.\")\n",
    "        return pd.DataFrame()\n",
    "\n",
    "    # Create a TF-IDF vectorizer for item descriptions\n",
    "    tfidf_vectorizer = TfidfVectorizer(stop_words='english')\n",
    "\n",
    "    # Apply TF-IDF vectorization to item descriptions\n",
    "    tfidf_matrix_content = tfidf_vectorizer.fit_transform(train_data['Tags'])\n",
    "\n",
    "    # Calculate cosine similarity between items based on descriptions\n",
    "    cosine_similarities_content = cosine_similarity(tfidf_matrix_content, tfidf_matrix_content)\n",
    "\n",
    "    # Find the index of the item\n",
    "    item_index = train_data[train_data['Name'] == item_name].index[0]\n",
    "\n",
    "    # Get the cosine similarity scores for the item\n",
    "    similar_items = list(enumerate(cosine_similarities_content[item_index]))\n",
    "\n",
    "    # Sort similar items by similarity score in descending order\n",
    "    similar_items = sorted(similar_items, key=lambda x: x[1], reverse=True)\n",
    "\n",
    "    # Get the top N most similar items (excluding the item itself)\n",
    "    top_similar_items = similar_items[1:top_n+1]\n",
    "\n",
    "    # Get the indices of the top similar items\n",
    "    recommended_item_indices = [x[0] for x in top_similar_items]\n",
    "\n",
    "    # Get the details of the top similar items\n",
    "    recommended_items_details = train_data.iloc[recommended_item_indices][['ID','Name', 'ReviewCount', 'Brand', 'ImageURL', 'Rating']]\n",
    "\n",
    "    return recommended_items_details"
   ]
  },
  {
   "cell_type": "code",
   "execution_count": 70,
   "id": "2225a75b",
   "metadata": {},
   "outputs": [
    {
     "data": {
      "text/html": [
       "<div>\n",
       "<style scoped>\n",
       "    .dataframe tbody tr th:only-of-type {\n",
       "        vertical-align: middle;\n",
       "    }\n",
       "\n",
       "    .dataframe tbody tr th {\n",
       "        vertical-align: top;\n",
       "    }\n",
       "\n",
       "    .dataframe thead th {\n",
       "        text-align: right;\n",
       "    }\n",
       "</style>\n",
       "<table border=\"1\" class=\"dataframe\">\n",
       "  <thead>\n",
       "    <tr style=\"text-align: right;\">\n",
       "      <th></th>\n",
       "      <th>ID</th>\n",
       "      <th>Name</th>\n",
       "      <th>ReviewCount</th>\n",
       "      <th>Brand</th>\n",
       "      <th>ImageURL</th>\n",
       "      <th>Rating</th>\n",
       "    </tr>\n",
       "  </thead>\n",
       "  <tbody>\n",
       "    <tr>\n",
       "      <th>156</th>\n",
       "      <td>90a05d89cd410129614c64695465776f</td>\n",
       "      <td>OPI Nail Lacquer Polish .5oz/15mL - This Gown ...</td>\n",
       "      <td>NaN</td>\n",
       "      <td>opi</td>\n",
       "      <td>https://i5.walmartimages.com/asr/71caed3f-5f83...</td>\n",
       "      <td>NaN</td>\n",
       "    </tr>\n",
       "    <tr>\n",
       "      <th>184</th>\n",
       "      <td>4133a3c866ec3628fb2e02bb5dd1f12e</td>\n",
       "      <td>OPI Nail Gel Polish GelColor .5oz/15mL 3 CT Co...</td>\n",
       "      <td>NaN</td>\n",
       "      <td>opi</td>\n",
       "      <td>https://i5.walmartimages.com/asr/2d6f5147-53a8...</td>\n",
       "      <td>NaN</td>\n",
       "    </tr>\n",
       "    <tr>\n",
       "      <th>205</th>\n",
       "      <td>aab795649c145f10cdd9c207564f016d</td>\n",
       "      <td>OPI Nail Lacquer - Dont Bossa Nova Me Around -...</td>\n",
       "      <td>NaN</td>\n",
       "      <td>opi</td>\n",
       "      <td>https://i5.walmartimages.com/asr/fd1195d2-8d8d...</td>\n",
       "      <td>NaN</td>\n",
       "    </tr>\n",
       "    <tr>\n",
       "      <th>237</th>\n",
       "      <td>d43eb27ba16b185c1b57a24f42857120</td>\n",
       "      <td>OPI Infinite Shine 2 Polish - ISL P33 - Alpaca...</td>\n",
       "      <td>5.0</td>\n",
       "      <td>opi</td>\n",
       "      <td>https://i5.walmartimages.com/asr/7426eb5c-1690...</td>\n",
       "      <td>NaN</td>\n",
       "    </tr>\n",
       "    <tr>\n",
       "      <th>325</th>\n",
       "      <td>3d447bc46eafcd0d5eaf403c833de091</td>\n",
       "      <td>OPI Gel Polish Fall 2019 Scotland Collection G...</td>\n",
       "      <td>1.0</td>\n",
       "      <td>opi</td>\n",
       "      <td>https://i5.walmartimages.com/asr/79bbbd9f-9a89...</td>\n",
       "      <td>NaN</td>\n",
       "    </tr>\n",
       "    <tr>\n",
       "      <th>375</th>\n",
       "      <td>994effe2cf09a5487986aa5c66b90d66</td>\n",
       "      <td>OPI Nail Gel Polish GelColor .5oz/15mL 3 CT Co...</td>\n",
       "      <td>1.0</td>\n",
       "      <td>opi</td>\n",
       "      <td>https://i5.walmartimages.com/asr/744e869c-3500...</td>\n",
       "      <td>5.0</td>\n",
       "    </tr>\n",
       "    <tr>\n",
       "      <th>402</th>\n",
       "      <td>9f5ea41d3003c54cd95d84451c5de067</td>\n",
       "      <td>OPI Nail Polish, Strawberry Margarita, 0.5 Fl Oz</td>\n",
       "      <td>57.0</td>\n",
       "      <td>opi</td>\n",
       "      <td>https://i5.walmartimages.com/asr/b95676e5-96ab...</td>\n",
       "      <td>4.4</td>\n",
       "    </tr>\n",
       "    <tr>\n",
       "      <th>706</th>\n",
       "      <td>5400539bd159e2b38e0f2a1905e9d8a0</td>\n",
       "      <td>OPI Nail Gel Polish GelColor .5oz/15mL 3 CT Co...</td>\n",
       "      <td>1.0</td>\n",
       "      <td>opi</td>\n",
       "      <td>https://i5.walmartimages.com/asr/c7ba4815-52f7...</td>\n",
       "      <td>5.0</td>\n",
       "    </tr>\n",
       "    <tr>\n",
       "      <th>886</th>\n",
       "      <td>36b165d779400ff27ceb8ac1ec4b98bd</td>\n",
       "      <td>OPI- Nail Lacquer-GelColor - &amp;quotLiv&amp;quotin t...</td>\n",
       "      <td>NaN</td>\n",
       "      <td>opi</td>\n",
       "      <td>https://i5.walmartimages.com/asr/98b4194c-e026...</td>\n",
       "      <td>NaN</td>\n",
       "    </tr>\n",
       "    <tr>\n",
       "      <th>1042</th>\n",
       "      <td>96ec9b4038efd3d09a496305faa0b3e7</td>\n",
       "      <td>OPI GelColor Gel Nail Polish, Dulce De Leche, ...</td>\n",
       "      <td>1.0</td>\n",
       "      <td>opi</td>\n",
       "      <td>https://i5.walmartimages.com/asr/c1b2c370-b2d2...</td>\n",
       "      <td>NaN</td>\n",
       "    </tr>\n",
       "  </tbody>\n",
       "</table>\n",
       "</div>"
      ],
      "text/plain": [
       "                                    ID  \\\n",
       "156   90a05d89cd410129614c64695465776f   \n",
       "184   4133a3c866ec3628fb2e02bb5dd1f12e   \n",
       "205   aab795649c145f10cdd9c207564f016d   \n",
       "237   d43eb27ba16b185c1b57a24f42857120   \n",
       "325   3d447bc46eafcd0d5eaf403c833de091   \n",
       "375   994effe2cf09a5487986aa5c66b90d66   \n",
       "402   9f5ea41d3003c54cd95d84451c5de067   \n",
       "706   5400539bd159e2b38e0f2a1905e9d8a0   \n",
       "886   36b165d779400ff27ceb8ac1ec4b98bd   \n",
       "1042  96ec9b4038efd3d09a496305faa0b3e7   \n",
       "\n",
       "                                                   Name  ReviewCount Brand  \\\n",
       "156   OPI Nail Lacquer Polish .5oz/15mL - This Gown ...          NaN   opi   \n",
       "184   OPI Nail Gel Polish GelColor .5oz/15mL 3 CT Co...          NaN   opi   \n",
       "205   OPI Nail Lacquer - Dont Bossa Nova Me Around -...          NaN   opi   \n",
       "237   OPI Infinite Shine 2 Polish - ISL P33 - Alpaca...          5.0   opi   \n",
       "325   OPI Gel Polish Fall 2019 Scotland Collection G...          1.0   opi   \n",
       "375   OPI Nail Gel Polish GelColor .5oz/15mL 3 CT Co...          1.0   opi   \n",
       "402    OPI Nail Polish, Strawberry Margarita, 0.5 Fl Oz         57.0   opi   \n",
       "706   OPI Nail Gel Polish GelColor .5oz/15mL 3 CT Co...          1.0   opi   \n",
       "886   OPI- Nail Lacquer-GelColor - &quotLiv&quotin t...          NaN   opi   \n",
       "1042  OPI GelColor Gel Nail Polish, Dulce De Leche, ...          1.0   opi   \n",
       "\n",
       "                                               ImageURL  Rating  \n",
       "156   https://i5.walmartimages.com/asr/71caed3f-5f83...     NaN  \n",
       "184   https://i5.walmartimages.com/asr/2d6f5147-53a8...     NaN  \n",
       "205   https://i5.walmartimages.com/asr/fd1195d2-8d8d...     NaN  \n",
       "237   https://i5.walmartimages.com/asr/7426eb5c-1690...     NaN  \n",
       "325   https://i5.walmartimages.com/asr/79bbbd9f-9a89...     NaN  \n",
       "375   https://i5.walmartimages.com/asr/744e869c-3500...     5.0  \n",
       "402   https://i5.walmartimages.com/asr/b95676e5-96ab...     4.4  \n",
       "706   https://i5.walmartimages.com/asr/c7ba4815-52f7...     5.0  \n",
       "886   https://i5.walmartimages.com/asr/98b4194c-e026...     NaN  \n",
       "1042  https://i5.walmartimages.com/asr/c1b2c370-b2d2...     NaN  "
      ]
     },
     "execution_count": 70,
     "metadata": {},
     "output_type": "execute_result"
    }
   ],
   "source": [
    "item_name = 'OPI Infinite Shine, Nail Lacquer Nail Polish, Bubble Bath'\n",
    "content_based_rec = content_based_recommendations(train_data, item_name, top_n=10)\n",
    "\n",
    "content_based_rec"
   ]
  },
  {
   "cell_type": "code",
   "execution_count": 71,
   "id": "1a703a88",
   "metadata": {},
   "outputs": [
    {
     "data": {
      "text/plain": [
       "'Black Radiance Perfect Tone Matte Lip Crème, Succulent Plum'"
      ]
     },
     "execution_count": 71,
     "metadata": {},
     "output_type": "execute_result"
    }
   ],
   "source": [
    "train_data['Name'][100]"
   ]
  },
  {
   "cell_type": "code",
   "execution_count": 72,
   "id": "667e354e",
   "metadata": {},
   "outputs": [],
   "source": [
    "import pandas as pd\n",
    "import math\n",
    "\n",
    "def compute_tf_idf(train_data):\n",
    "    # Tokenize each tag set and compute TF (term frequency) and IDF (inverse document frequency)\n",
    "    term_freqs = []\n",
    "    doc_freqs = {}\n",
    "    num_documents = len(train_data)\n",
    "    \n",
    "    for tags in train_data['Tags']:\n",
    "        terms = tags.lower().split()\n",
    "        term_count = {}\n",
    "        for term in terms:\n",
    "            term_count[term] = term_count.get(term, 0) + 1\n",
    "        \n",
    "        term_freqs.append(term_count)\n",
    "        \n",
    "        for term in term_count.keys():\n",
    "            doc_freqs[term] = doc_freqs.get(term, 0) + 1\n",
    "\n",
    "    tf_idf_matrix = []\n",
    "    for term_count in term_freqs:\n",
    "        tf_idf_vector = {}\n",
    "        for term, count in term_count.items():\n",
    "            tf = count / len(term_count)  # Term frequency\n",
    "            idf = math.log(num_documents / (1 + doc_freqs[term]))  # Inverse document frequency\n",
    "            tf_idf_vector[term] = tf * idf\n",
    "        tf_idf_matrix.append(tf_idf_vector)\n",
    "    \n",
    "    return tf_idf_matrix\n",
    "\n",
    "def cosine_similarity(vector1, vector2):\n",
    "    # Compute cosine similarity between two TF-IDF vectors\n",
    "    dot_product = sum(vector1.get(term, 0) * vector2.get(term, 0) for term in vector1)\n",
    "    norm1 = math.sqrt(sum(v ** 2 for v in vector1.values()))\n",
    "    norm2 = math.sqrt(sum(v ** 2 for v in vector2.values()))\n",
    "    \n",
    "    if norm1 == 0 or norm2 == 0:\n",
    "        return 0.0\n",
    "    return dot_product / (norm1 * norm2)\n",
    "\n",
    "def content_based_recommendations(train_data, item_name, top_n=10):\n",
    "    if item_name not in train_data['Name'].values:\n",
    "        print(f\"Item '{item_name}' not found in the training data.\")\n",
    "        return pd.DataFrame()\n",
    "\n",
    "    # Compute TF-IDF matrix for all items\n",
    "    tf_idf_matrix = compute_tf_idf(train_data)\n",
    "\n",
    "    # Find the index of the item in the dataset\n",
    "    item_index = train_data[train_data['Name'] == item_name].index[0]\n",
    "    \n",
    "    # Calculate cosine similarity for the given item with all other items\n",
    "    similarities = []\n",
    "    for i, tf_idf_vector in enumerate(tf_idf_matrix):\n",
    "        similarity = cosine_similarity(tf_idf_matrix[item_index], tf_idf_vector)\n",
    "        similarities.append((i, similarity))\n",
    "\n",
    "    # Sort by similarity scores in descending order\n",
    "    similarities = sorted(similarities, key=lambda x: x[1], reverse=True)\n",
    "\n",
    "    # Get the indices of the top N most similar items (excluding the item itself)\n",
    "    top_similar_indices = [idx for idx, _ in similarities[1:top_n+1]]\n",
    "\n",
    "    # Retrieve details of the top similar items\n",
    "    recommended_items_details = train_data.iloc[top_similar_indices][['Name', 'ReviewCount', 'Brand', 'ImageURL', 'Rating']]\n",
    "    \n",
    "    return recommended_items_details\n",
    "\n",
    "\n",
    "\n",
    "\n"
   ]
  },
  {
   "cell_type": "code",
   "execution_count": 73,
   "id": "1494bd01",
   "metadata": {},
   "outputs": [
    {
     "data": {
      "text/html": [
       "<div>\n",
       "<style scoped>\n",
       "    .dataframe tbody tr th:only-of-type {\n",
       "        vertical-align: middle;\n",
       "    }\n",
       "\n",
       "    .dataframe tbody tr th {\n",
       "        vertical-align: top;\n",
       "    }\n",
       "\n",
       "    .dataframe thead th {\n",
       "        text-align: right;\n",
       "    }\n",
       "</style>\n",
       "<table border=\"1\" class=\"dataframe\">\n",
       "  <thead>\n",
       "    <tr style=\"text-align: right;\">\n",
       "      <th></th>\n",
       "      <th>Name</th>\n",
       "      <th>ReviewCount</th>\n",
       "      <th>Brand</th>\n",
       "      <th>ImageURL</th>\n",
       "      <th>Rating</th>\n",
       "    </tr>\n",
       "  </thead>\n",
       "  <tbody>\n",
       "    <tr>\n",
       "      <th>2884</th>\n",
       "      <td>Philosophy Amazing Grace Perfumed Firming Body...</td>\n",
       "      <td>NaN</td>\n",
       "      <td>philosophy</td>\n",
       "      <td>https://i5.walmartimages.com/asr/f2ce9f7c-b65d...</td>\n",
       "      <td>NaN</td>\n",
       "    </tr>\n",
       "    <tr>\n",
       "      <th>1320</th>\n",
       "      <td>Philosophy Hands of Hope Hand And Cuticle Crea...</td>\n",
       "      <td>2.0</td>\n",
       "      <td>philosophy</td>\n",
       "      <td>https://i5.walmartimages.com/asr/b57819b9-2fca...</td>\n",
       "      <td>NaN</td>\n",
       "    </tr>\n",
       "    <tr>\n",
       "      <th>1133</th>\n",
       "      <td>Philosophy Pure Grace Body Spritz, 8 Ounce</td>\n",
       "      <td>NaN</td>\n",
       "      <td>philosophy</td>\n",
       "      <td>https://i5.walmartimages.com/asr/42d15838-a189...</td>\n",
       "      <td>NaN</td>\n",
       "    </tr>\n",
       "    <tr>\n",
       "      <th>4254</th>\n",
       "      <td>Philosophy by Philosophy - Orange Pineapple Sm...</td>\n",
       "      <td>NaN</td>\n",
       "      <td>philosophy</td>\n",
       "      <td>https://i5.walmartimages.com/asr/5e8c276f-71b7...</td>\n",
       "      <td>NaN</td>\n",
       "    </tr>\n",
       "    <tr>\n",
       "      <th>2746</th>\n",
       "      <td>Clean W-BB-1725 Clean Shower Fresh Moisture Ri...</td>\n",
       "      <td>1.0</td>\n",
       "      <td>clean</td>\n",
       "      <td>https://i5.walmartimages.com/asr/8d56e3fe-002a...</td>\n",
       "      <td>5.0</td>\n",
       "    </tr>\n",
       "    <tr>\n",
       "      <th>2231</th>\n",
       "      <td>LOccitane Neroli &amp; Orchidee Body Milk, 8.4 Oz</td>\n",
       "      <td>1.0</td>\n",
       "      <td></td>\n",
       "      <td>https://i5.walmartimages.com/asr/c5a45833-8ec9...</td>\n",
       "      <td>NaN</td>\n",
       "    </tr>\n",
       "    <tr>\n",
       "      <th>4111</th>\n",
       "      <td>LOccitane Pure Shea Butter, 5 Oz</td>\n",
       "      <td>5.0</td>\n",
       "      <td></td>\n",
       "      <td>https://i5.walmartimages.com/asr/4ab445a0-2006...</td>\n",
       "      <td>5.0</td>\n",
       "    </tr>\n",
       "    <tr>\n",
       "      <th>4453</th>\n",
       "      <td>LOccitane Shea Butter Ultra Rich Body Lotion, ...</td>\n",
       "      <td>4.0</td>\n",
       "      <td></td>\n",
       "      <td>https://i5.walmartimages.com/asr/af20ff49-6281...</td>\n",
       "      <td>NaN</td>\n",
       "    </tr>\n",
       "    <tr>\n",
       "      <th>1122</th>\n",
       "      <td>14oz First Aid Beauty Ultra Repair Cream Inten...</td>\n",
       "      <td>14.0</td>\n",
       "      <td>aid, beauty</td>\n",
       "      <td>https://i5.walmartimages.com/asr/6af4f07f-07bc...</td>\n",
       "      <td>4.9</td>\n",
       "    </tr>\n",
       "    <tr>\n",
       "      <th>228</th>\n",
       "      <td>Clarins Bust Beauty Firming Lotion, 1.7 Oz</td>\n",
       "      <td>NaN</td>\n",
       "      <td>clarins</td>\n",
       "      <td>https://i5.walmartimages.com/asr/324a4e6a-0bad...</td>\n",
       "      <td>NaN</td>\n",
       "    </tr>\n",
       "  </tbody>\n",
       "</table>\n",
       "</div>"
      ],
      "text/plain": [
       "                                                   Name  ReviewCount  \\\n",
       "2884  Philosophy Amazing Grace Perfumed Firming Body...          NaN   \n",
       "1320  Philosophy Hands of Hope Hand And Cuticle Crea...          2.0   \n",
       "1133         Philosophy Pure Grace Body Spritz, 8 Ounce          NaN   \n",
       "4254  Philosophy by Philosophy - Orange Pineapple Sm...          NaN   \n",
       "2746  Clean W-BB-1725 Clean Shower Fresh Moisture Ri...          1.0   \n",
       "2231      LOccitane Neroli & Orchidee Body Milk, 8.4 Oz          1.0   \n",
       "4111                   LOccitane Pure Shea Butter, 5 Oz          5.0   \n",
       "4453  LOccitane Shea Butter Ultra Rich Body Lotion, ...          4.0   \n",
       "1122  14oz First Aid Beauty Ultra Repair Cream Inten...         14.0   \n",
       "228          Clarins Bust Beauty Firming Lotion, 1.7 Oz          NaN   \n",
       "\n",
       "            Brand                                           ImageURL  Rating  \n",
       "2884   philosophy  https://i5.walmartimages.com/asr/f2ce9f7c-b65d...     NaN  \n",
       "1320   philosophy  https://i5.walmartimages.com/asr/b57819b9-2fca...     NaN  \n",
       "1133   philosophy  https://i5.walmartimages.com/asr/42d15838-a189...     NaN  \n",
       "4254   philosophy  https://i5.walmartimages.com/asr/5e8c276f-71b7...     NaN  \n",
       "2746        clean  https://i5.walmartimages.com/asr/8d56e3fe-002a...     5.0  \n",
       "2231               https://i5.walmartimages.com/asr/c5a45833-8ec9...     NaN  \n",
       "4111               https://i5.walmartimages.com/asr/4ab445a0-2006...     5.0  \n",
       "4453               https://i5.walmartimages.com/asr/af20ff49-6281...     NaN  \n",
       "1122  aid, beauty  https://i5.walmartimages.com/asr/6af4f07f-07bc...     4.9  \n",
       "228       clarins  https://i5.walmartimages.com/asr/324a4e6a-0bad...     NaN  "
      ]
     },
     "execution_count": 73,
     "metadata": {},
     "output_type": "execute_result"
    }
   ],
   "source": [
    "item_name = 'Philosophy Pure Grace Nude Rose Body Lotion, 16 Oz'\n",
    "content_based_rec = content_based_recommendations(train_data, item_name, top_n=10)\n",
    "\n",
    "content_based_rec"
   ]
  },
  {
   "cell_type": "code",
   "execution_count": 74,
   "id": "3dd24722",
   "metadata": {},
   "outputs": [
    {
     "data": {
      "text/plain": [
       "2884    Philosophy Amazing Grace Perfumed Firming Body...\n",
       "1320    Philosophy Hands of Hope Hand And Cuticle Crea...\n",
       "1133           Philosophy Pure Grace Body Spritz, 8 Ounce\n",
       "4254    Philosophy by Philosophy - Orange Pineapple Sm...\n",
       "2746    Clean W-BB-1725 Clean Shower Fresh Moisture Ri...\n",
       "2231        LOccitane Neroli & Orchidee Body Milk, 8.4 Oz\n",
       "4111                     LOccitane Pure Shea Butter, 5 Oz\n",
       "4453    LOccitane Shea Butter Ultra Rich Body Lotion, ...\n",
       "1122    14oz First Aid Beauty Ultra Repair Cream Inten...\n",
       "228            Clarins Bust Beauty Firming Lotion, 1.7 Oz\n",
       "Name: Name, dtype: object"
      ]
     },
     "execution_count": 74,
     "metadata": {},
     "output_type": "execute_result"
    }
   ],
   "source": [
    "content_based_rec['Name']"
   ]
  }
 ],
 "metadata": {
  "kernelspec": {
   "display_name": "Python 3",
   "language": "python",
   "name": "python3"
  },
  "language_info": {
   "codemirror_mode": {
    "name": "ipython",
    "version": 3
   },
   "file_extension": ".py",
   "mimetype": "text/x-python",
   "name": "python",
   "nbconvert_exporter": "python",
   "pygments_lexer": "ipython3",
   "version": "3.11.0"
  }
 },
 "nbformat": 4,
 "nbformat_minor": 5
}
